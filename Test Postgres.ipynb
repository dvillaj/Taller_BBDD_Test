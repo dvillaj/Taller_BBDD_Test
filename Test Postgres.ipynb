{
 "cells": [
  {
   "cell_type": "markdown",
   "metadata": {},
   "source": [
    "# Setup"
   ]
  },
  {
   "cell_type": "code",
   "execution_count": 25,
   "metadata": {},
   "outputs": [],
   "source": [
    "%alias postgres /usr/local/bin/docker-compose -f /opt/compose/compose-postgres/docker-compose.yml"
   ]
  },
  {
   "cell_type": "code",
   "execution_count": 26,
   "metadata": {},
   "outputs": [],
   "source": [
    "%%bash\n",
    "echo q | htop | aha --black --line-fix > .resources.html"
   ]
  },
  {
   "cell_type": "markdown",
   "metadata": {},
   "source": [
    "[Resources](.resources.html)"
   ]
  },
  {
   "cell_type": "code",
   "execution_count": 43,
   "metadata": {},
   "outputs": [
    {
     "name": "stdout",
     "output_type": "stream",
     "text": [
      "Name   Command   State   Ports\n",
      "------------------------------\n"
     ]
    }
   ],
   "source": [
    "postgres ps"
   ]
  },
  {
   "cell_type": "code",
   "execution_count": 44,
   "metadata": {},
   "outputs": [
    {
     "name": "stdout",
     "output_type": "stream",
     "text": [
      "Creating network \"compose-postgres_postgres\" with driver \"bridge\"\n",
      "Creating postgres_container ... \n",
      "Creating pgadmin_container  ... \n",
      "\u001b[1Bting pgadmin_container  ... \u001b[32mdone\u001b[0m\u001b[1A\u001b[2K"
     ]
    }
   ],
   "source": [
    "postgres up -d"
   ]
  },
  {
   "cell_type": "markdown",
   "metadata": {},
   "source": [
    "# Tests Postgres"
   ]
  },
  {
   "cell_type": "code",
   "execution_count": 28,
   "metadata": {},
   "outputs": [
    {
     "name": "stdout",
     "output_type": "stream",
     "text": [
      "/home/learner/notebooks/Taller_BBDD/postgresql/CRUD_PostgreSQL.ipynb\n",
      "/home/learner/notebooks/Taller_BBDD/postgresql/sql/DVD Rental.ipynb\n",
      "/home/learner/notebooks/Taller_BBDD/postgresql/sql/Tarjetas Black.ipynb\n",
      "/home/learner/notebooks/Taller_BBDD/postgresql/util/Read_Csv_Json.ipynb\n",
      "/home/learner/notebooks/Taller_BBDD/postgresql/service/Postgres Service.ipynb\n",
      "/home/learner/notebooks/Taller_BBDD/postgresql/twitter/PostgreSQL_Twitter.ipynb\n",
      "/home/learner/notebooks/Taller_BBDD/postgresql/black/Caso de Uso.ipynb\n",
      "/home/learner/notebooks/Taller_BBDD/postgresql/black/Tarjetas Black.ipynb\n"
     ]
    }
   ],
   "source": [
    "import glob\n",
    "\n",
    "for filename in glob.iglob('/home/learner/notebooks/Taller_BBDD/postgresql/**/*.ipynb', recursive=True):\n",
    "    print(filename)"
   ]
  },
  {
   "cell_type": "code",
   "execution_count": 41,
   "metadata": {},
   "outputs": [
    {
     "name": "stderr",
     "output_type": "stream",
     "text": [
      "[NbConvertApp] Converting notebook ../Taller_BBDD/postgresql/CRUD_PostgreSQL.ipynb to html_embed\n",
      "[NbConvertApp] Converting notebook ../Taller_BBDD/postgresql/CRUD_PostgreSQL.ipynb to notebook\n"
     ]
    }
   ],
   "source": [
    "%%bash\n",
    "source \"./functions.sh\"\n",
    "execute_notebook \"../Taller_BBDD/postgresql/CRUD_PostgreSQL.ipynb\""
   ]
  },
  {
   "cell_type": "code",
   "execution_count": 30,
   "metadata": {},
   "outputs": [
    {
     "name": "stderr",
     "output_type": "stream",
     "text": [
      "[NbConvertApp] Converting notebook ../Taller_BBDD/postgresql/black/Caso de Uso.ipynb to html_embed\n",
      "[NbConvertApp] Converting notebook ../Taller_BBDD/postgresql/black/Caso de Uso.ipynb to notebook\n"
     ]
    }
   ],
   "source": [
    "%%bash\n",
    "source \"./functions.sh\"\n",
    "execute_notebook \"../Taller_BBDD/postgresql/black/Caso de Uso.ipynb\"\n"
   ]
  },
  {
   "cell_type": "code",
   "execution_count": 31,
   "metadata": {},
   "outputs": [
    {
     "name": "stderr",
     "output_type": "stream",
     "text": [
      "[NbConvertApp] Converting notebook ../Taller_BBDD/postgresql/black/Tarjetas Black.ipynb to html_embed\n",
      "[NbConvertApp] Converting notebook ../Taller_BBDD/postgresql/black/Tarjetas Black.ipynb to notebook\n"
     ]
    }
   ],
   "source": [
    "%%bash\n",
    "source \"./functions.sh\"\n",
    "execute_notebook \"../Taller_BBDD/postgresql/black/Tarjetas Black.ipynb\""
   ]
  },
  {
   "cell_type": "code",
   "execution_count": 32,
   "metadata": {},
   "outputs": [
    {
     "name": "stderr",
     "output_type": "stream",
     "text": [
      "[NbConvertApp] Converting notebook ../Taller_BBDD/postgresql/sql/DVD Rental.ipynb to html_embed\n",
      "[NbConvertApp] Converting notebook ../Taller_BBDD/postgresql/sql/DVD Rental.ipynb to notebook\n"
     ]
    }
   ],
   "source": [
    "%%bash\n",
    "source \"./functions.sh\"\n",
    "execute_notebook \"../Taller_BBDD/postgresql/sql/DVD Rental.ipynb\""
   ]
  },
  {
   "cell_type": "code",
   "execution_count": 33,
   "metadata": {},
   "outputs": [
    {
     "name": "stderr",
     "output_type": "stream",
     "text": [
      "[NbConvertApp] Converting notebook ../Taller_BBDD/postgresql/sql/Tarjetas Black.ipynb to html_embed\n",
      "[NbConvertApp] Converting notebook ../Taller_BBDD/postgresql/sql/Tarjetas Black.ipynb to notebook\n"
     ]
    }
   ],
   "source": [
    "%%bash\n",
    "source \"./functions.sh\"\n",
    "execute_notebook \"../Taller_BBDD/postgresql/sql/Tarjetas Black.ipynb\""
   ]
  },
  {
   "cell_type": "code",
   "execution_count": 34,
   "metadata": {},
   "outputs": [
    {
     "name": "stderr",
     "output_type": "stream",
     "text": [
      "[NbConvertApp] Converting notebook ../Taller_BBDD/postgresql/twitter/PostgreSQL_Twitter.ipynb to html_embed\n",
      "[NbConvertApp] Converting notebook ../Taller_BBDD/postgresql/twitter/PostgreSQL_Twitter.ipynb to notebook\n"
     ]
    }
   ],
   "source": [
    "%%bash\n",
    "source \"./functions.sh\"\n",
    "execute_notebook \"../Taller_BBDD/postgresql/twitter/PostgreSQL_Twitter.ipynb\""
   ]
  },
  {
   "cell_type": "code",
   "execution_count": 35,
   "metadata": {},
   "outputs": [
    {
     "name": "stderr",
     "output_type": "stream",
     "text": [
      "[NbConvertApp] Converting notebook ../Taller_BBDD/postgresql/util/Read_Csv_Json.ipynb to html_embed\n",
      "[NbConvertApp] Converting notebook ../Taller_BBDD/postgresql/util/Read_Csv_Json.ipynb to notebook\n"
     ]
    }
   ],
   "source": [
    "%%bash\n",
    "source \"./functions.sh\"\n",
    "execute_notebook \"../Taller_BBDD/postgresql/util/Read_Csv_Json.ipynb\""
   ]
  },
  {
   "cell_type": "markdown",
   "metadata": {},
   "source": [
    "# Práctica"
   ]
  },
  {
   "cell_type": "code",
   "execution_count": 36,
   "metadata": {},
   "outputs": [
    {
     "name": "stdout",
     "output_type": "stream",
     "text": [
      "/home/learner/notebooks/Taller_BBDD_Practica/Caso de Uso.ipynb\n",
      "/home/learner/notebooks/Taller_BBDD_Practica/Postgres.ipynb\n",
      "/home/learner/notebooks/Taller_BBDD_Practica/Neo4j - Completo.ipynb\n",
      "/home/learner/notebooks/Taller_BBDD_Practica/Cassandra.ipynb\n",
      "/home/learner/notebooks/Taller_BBDD_Practica/Riak - Completo.ipynb\n",
      "/home/learner/notebooks/Taller_BBDD_Practica/MongoDB - Completo..ipynb\n",
      "/home/learner/notebooks/Taller_BBDD_Practica/Riak.ipynb\n",
      "/home/learner/notebooks/Taller_BBDD_Practica/Cassandra - Completo.ipynb\n",
      "/home/learner/notebooks/Taller_BBDD_Practica/MongoDB.ipynb\n",
      "/home/learner/notebooks/Taller_BBDD_Practica/Neo4j.ipynb\n"
     ]
    }
   ],
   "source": [
    "import glob\n",
    "\n",
    "for filename in glob.iglob('/home/learner/notebooks/Taller_BBDD_Practica/**/*.ipynb', recursive=True):\n",
    "    print(filename)"
   ]
  },
  {
   "cell_type": "code",
   "execution_count": 37,
   "metadata": {},
   "outputs": [
    {
     "name": "stderr",
     "output_type": "stream",
     "text": [
      "[NbConvertApp] Converting notebook ../Taller_BBDD_Practica/Caso de Uso.ipynb to html_embed\n",
      "[NbConvertApp] Converting notebook ../Taller_BBDD_Practica/Caso de Uso.ipynb to notebook\n"
     ]
    }
   ],
   "source": [
    "%%bash\n",
    "source \"./functions.sh\"\n",
    "execute_notebook \"../Taller_BBDD_Practica/Caso de Uso.ipynb\""
   ]
  },
  {
   "cell_type": "code",
   "execution_count": 38,
   "metadata": {},
   "outputs": [
    {
     "name": "stderr",
     "output_type": "stream",
     "text": [
      "[NbConvertApp] Converting notebook ../Taller_BBDD_Practica/Postgres.ipynb to html_embed\n",
      "[NbConvertApp] Converting notebook ../Taller_BBDD_Practica/Postgres.ipynb to notebook\n"
     ]
    }
   ],
   "source": [
    "%%bash\n",
    "source \"./functions.sh\"\n",
    "execute_notebook \"../Taller_BBDD_Practica/Postgres.ipynb\""
   ]
  },
  {
   "cell_type": "markdown",
   "metadata": {},
   "source": [
    "## Copy files"
   ]
  },
  {
   "cell_type": "code",
   "execution_count": 42,
   "metadata": {},
   "outputs": [
    {
     "name": "stdout",
     "output_type": "stream",
     "text": [
      "Ok ;-)\n"
     ]
    }
   ],
   "source": [
    "%%bash\n",
    "\n",
    "HOME_DIRECTORY=../Taller_BBDD/postgresql/practica\n",
    "\n",
    "rm -rf $HOME_DIRECTORY\n",
    "mkdir -p $HOME_DIRECTORY\n",
    "\n",
    "pushd . > /tmp/null\n",
    "cd ../Taller_BBDD_Practica\n",
    "cp \"Caso de Uso.ipynb\" \"Postgres.ipynb\" $HOME_DIRECTORY\n",
    "cp -r data  $HOME_DIRECTORY\n",
    "\n",
    "popd > /tmp/null\n",
    "echo \"Ok ;-)\""
   ]
  },
  {
   "cell_type": "markdown",
   "metadata": {},
   "source": [
    "# Stop Service"
   ]
  },
  {
   "cell_type": "code",
   "execution_count": null,
   "metadata": {},
   "outputs": [
    {
     "name": "stdout",
     "output_type": "stream",
     "text": [
      "Stopping pgadmin_container  ... \n",
      "Stopping postgres_container ... \n",
      "\u001b[2Bping pgadmin_container  ... \u001b[32mdone\u001b[0m"
     ]
    }
   ],
   "source": [
    "postgres down"
   ]
  },
  {
   "cell_type": "code",
   "execution_count": null,
   "metadata": {},
   "outputs": [],
   "source": []
  }
 ],
 "metadata": {
  "kernelspec": {
   "display_name": "Python 3",
   "language": "python",
   "name": "python3"
  },
  "language_info": {
   "codemirror_mode": {
    "name": "ipython",
    "version": 3
   },
   "file_extension": ".py",
   "mimetype": "text/x-python",
   "name": "python",
   "nbconvert_exporter": "python",
   "pygments_lexer": "ipython3",
   "version": "3.6.12"
  }
 },
 "nbformat": 4,
 "nbformat_minor": 4
}
