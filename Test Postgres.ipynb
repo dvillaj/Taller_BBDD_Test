{
 "cells": [
  {
   "cell_type": "markdown",
   "metadata": {},
   "source": [
    "# Setup"
   ]
  },
  {
   "cell_type": "code",
   "execution_count": 7,
   "metadata": {},
   "outputs": [],
   "source": [
    "%alias postgres /usr/local/bin/docker-compose -f /opt/compose/compose-postgres/docker-compose.yml"
   ]
  },
  {
   "cell_type": "code",
   "execution_count": 11,
   "metadata": {},
   "outputs": [],
   "source": [
    "%%bash\n",
    "echo q | htop | aha --black --line-fix > .resources.html"
   ]
  },
  {
   "cell_type": "markdown",
   "metadata": {},
   "source": [
    "[Resources](.resources.html)"
   ]
  },
  {
   "cell_type": "code",
   "execution_count": 8,
   "metadata": {},
   "outputs": [
    {
     "name": "stdout",
     "output_type": "stream",
     "text": [
      "       Name                  Command            State            Ports          \n",
      "--------------------------------------------------------------------------------\n",
      "pgadmin_container    /entrypoint.sh             Up      443/tcp,                \n",
      "                                                        0.0.0.0:5050->80/tcp    \n",
      "postgres_container   docker-entrypoint.sh       Up      0.0.0.0:5432->5432/tcp  \n",
      "                     postgres                                                   \n"
     ]
    }
   ],
   "source": [
    "postgres ps"
   ]
  },
  {
   "cell_type": "code",
   "execution_count": 12,
   "metadata": {},
   "outputs": [
    {
     "name": "stdout",
     "output_type": "stream",
     "text": [
      "Creating network \"compose-postgres_postgres\" with driver \"bridge\"\n",
      "Creating pgadmin_container ... \n",
      "Creating postgres_container ... \n",
      "\u001b[1Bting postgres_container ... \u001b[32mdone\u001b[0m\u001b[1A\u001b[2K"
     ]
    }
   ],
   "source": [
    "postgres up -d"
   ]
  },
  {
   "cell_type": "markdown",
   "metadata": {},
   "source": [
    "# Tests Postgres"
   ]
  },
  {
   "cell_type": "code",
   "execution_count": 13,
   "metadata": {},
   "outputs": [
    {
     "name": "stdout",
     "output_type": "stream",
     "text": [
      "/home/learner/notebooks/Taller_BBDD/postgresql/CRUD_PostgreSQL.ipynb\n",
      "/home/learner/notebooks/Taller_BBDD/postgresql/sql/DVD Rental.ipynb\n",
      "/home/learner/notebooks/Taller_BBDD/postgresql/sql/Tarjetas Black.ipynb\n",
      "/home/learner/notebooks/Taller_BBDD/postgresql/util/Read_Csv_Json.ipynb\n",
      "/home/learner/notebooks/Taller_BBDD/postgresql/service/Postgres Service.ipynb\n",
      "/home/learner/notebooks/Taller_BBDD/postgresql/twitter/PostgreSQL_Twitter.ipynb\n",
      "/home/learner/notebooks/Taller_BBDD/postgresql/black/Caso de Uso.ipynb\n",
      "/home/learner/notebooks/Taller_BBDD/postgresql/black/Tarjetas Black.ipynb\n"
     ]
    }
   ],
   "source": [
    "import glob\n",
    "\n",
    "for filename in glob.iglob('/home/learner/notebooks/Taller_BBDD/postgresql/**/*.ipynb', recursive=True):\n",
    "    print(filename)"
   ]
  },
  {
   "cell_type": "code",
   "execution_count": 14,
   "metadata": {},
   "outputs": [
    {
     "name": "stderr",
     "output_type": "stream",
     "text": [
      "[NbConvertApp] Converting notebook ../Taller_BBDD/postgresql/CRUD_PostgreSQL.ipynb to html_embed\n",
      "[NbConvertApp] Converting notebook ../Taller_BBDD/postgresql/CRUD_PostgreSQL.ipynb to notebook\n"
     ]
    }
   ],
   "source": [
    "%%bash\n",
    "source \"./functions.sh\"\n",
    "execute_notebook \"../Taller_BBDD/postgresql/CRUD_PostgreSQL.ipynb\""
   ]
  },
  {
   "cell_type": "code",
   "execution_count": 15,
   "metadata": {},
   "outputs": [
    {
     "name": "stderr",
     "output_type": "stream",
     "text": [
      "[NbConvertApp] Converting notebook ../Taller_BBDD/postgresql/black/Caso de Uso.ipynb to html_embed\n",
      "[NbConvertApp] Converting notebook ../Taller_BBDD/postgresql/black/Caso de Uso.ipynb to notebook\n"
     ]
    }
   ],
   "source": [
    "%%bash\n",
    "source \"./functions.sh\"\n",
    "execute_notebook \"../Taller_BBDD/postgresql/black/Caso de Uso.ipynb\"\n"
   ]
  },
  {
   "cell_type": "code",
   "execution_count": 16,
   "metadata": {},
   "outputs": [
    {
     "name": "stderr",
     "output_type": "stream",
     "text": [
      "[NbConvertApp] Converting notebook ../Taller_BBDD/postgresql/black/Tarjetas Black.ipynb to html_embed\n",
      "[NbConvertApp] Converting notebook ../Taller_BBDD/postgresql/black/Tarjetas Black.ipynb to notebook\n"
     ]
    }
   ],
   "source": [
    "%%bash\n",
    "source \"./functions.sh\"\n",
    "execute_notebook \"../Taller_BBDD/postgresql/black/Tarjetas Black.ipynb\""
   ]
  },
  {
   "cell_type": "code",
   "execution_count": 17,
   "metadata": {},
   "outputs": [
    {
     "name": "stderr",
     "output_type": "stream",
     "text": [
      "[NbConvertApp] Converting notebook ../Taller_BBDD/postgresql/sql/DVD Rental.ipynb to html_embed\n",
      "[NbConvertApp] Converting notebook ../Taller_BBDD/postgresql/sql/DVD Rental.ipynb to notebook\n"
     ]
    }
   ],
   "source": [
    "%%bash\n",
    "source \"./functions.sh\"\n",
    "execute_notebook \"../Taller_BBDD/postgresql/sql/DVD Rental.ipynb\""
   ]
  },
  {
   "cell_type": "code",
   "execution_count": 18,
   "metadata": {},
   "outputs": [
    {
     "name": "stderr",
     "output_type": "stream",
     "text": [
      "[NbConvertApp] Converting notebook ../Taller_BBDD/postgresql/sql/Tarjetas Black.ipynb to html_embed\n",
      "[NbConvertApp] Converting notebook ../Taller_BBDD/postgresql/sql/Tarjetas Black.ipynb to notebook\n"
     ]
    }
   ],
   "source": [
    "%%bash\n",
    "source \"./functions.sh\"\n",
    "execute_notebook \"../Taller_BBDD/postgresql/sql/Tarjetas Black.ipynb\""
   ]
  },
  {
   "cell_type": "code",
   "execution_count": 19,
   "metadata": {},
   "outputs": [
    {
     "name": "stderr",
     "output_type": "stream",
     "text": [
      "[NbConvertApp] Converting notebook ../Taller_BBDD/postgresql/twitter/PostgreSQL_Twitter.ipynb to html_embed\n",
      "[NbConvertApp] Converting notebook ../Taller_BBDD/postgresql/twitter/PostgreSQL_Twitter.ipynb to notebook\n"
     ]
    }
   ],
   "source": [
    "%%bash\n",
    "source \"./functions.sh\"\n",
    "execute_notebook \"../Taller_BBDD/postgresql/twitter/PostgreSQL_Twitter.ipynb\""
   ]
  },
  {
   "cell_type": "code",
   "execution_count": 20,
   "metadata": {},
   "outputs": [
    {
     "name": "stderr",
     "output_type": "stream",
     "text": [
      "[NbConvertApp] Converting notebook ../Taller_BBDD/postgresql/util/Read_Csv_Json.ipynb to html_embed\n",
      "[NbConvertApp] Converting notebook ../Taller_BBDD/postgresql/util/Read_Csv_Json.ipynb to notebook\n"
     ]
    }
   ],
   "source": [
    "%%bash\n",
    "source \"./functions.sh\"\n",
    "execute_notebook \"../Taller_BBDD/postgresql/util/Read_Csv_Json.ipynb\""
   ]
  },
  {
   "cell_type": "markdown",
   "metadata": {},
   "source": [
    "# Practica"
   ]
  },
  {
   "cell_type": "code",
   "execution_count": 21,
   "metadata": {},
   "outputs": [
    {
     "name": "stdout",
     "output_type": "stream",
     "text": [
      "/home/learner/notebooks/Taller_BBDD_Practica/Caso de Uso.ipynb\n",
      "/home/learner/notebooks/Taller_BBDD_Practica/Postgres.ipynb\n",
      "/home/learner/notebooks/Taller_BBDD_Practica/Neo4j - Completo.ipynb\n",
      "/home/learner/notebooks/Taller_BBDD_Practica/copy-files.ipynb\n",
      "/home/learner/notebooks/Taller_BBDD_Practica/Cassandra.ipynb\n",
      "/home/learner/notebooks/Taller_BBDD_Practica/Riak - Completo.ipynb\n",
      "/home/learner/notebooks/Taller_BBDD_Practica/MongoDB - Completo..ipynb\n",
      "/home/learner/notebooks/Taller_BBDD_Practica/Riak.ipynb\n",
      "/home/learner/notebooks/Taller_BBDD_Practica/Cassandra - Completo.ipynb\n",
      "/home/learner/notebooks/Taller_BBDD_Practica/MongoDB.ipynb\n",
      "/home/learner/notebooks/Taller_BBDD_Practica/Neo4j.ipynb\n"
     ]
    }
   ],
   "source": [
    "import glob\n",
    "\n",
    "for filename in glob.iglob('/home/learner/notebooks/Taller_BBDD_Practica/**/*.ipynb', recursive=True):\n",
    "    print(filename)"
   ]
  },
  {
   "cell_type": "code",
   "execution_count": 22,
   "metadata": {},
   "outputs": [
    {
     "name": "stderr",
     "output_type": "stream",
     "text": [
      "[NbConvertApp] Converting notebook ../Taller_BBDD_Practica/Caso de Uso.ipynb to html_embed\n",
      "[NbConvertApp] Converting notebook ../Taller_BBDD_Practica/Caso de Uso.ipynb to notebook\n"
     ]
    }
   ],
   "source": [
    "%%bash\n",
    "source \"./functions.sh\"\n",
    "execute_notebook \"../Taller_BBDD_Practica/Caso de Uso.ipynb\""
   ]
  },
  {
   "cell_type": "code",
   "execution_count": 23,
   "metadata": {},
   "outputs": [
    {
     "name": "stderr",
     "output_type": "stream",
     "text": [
      "[NbConvertApp] Converting notebook ../Taller_BBDD_Practica/Postgres.ipynb to html_embed\n",
      "[NbConvertApp] Converting notebook ../Taller_BBDD_Practica/Postgres.ipynb to notebook\n"
     ]
    }
   ],
   "source": [
    "%%bash\n",
    "source \"./functions.sh\"\n",
    "execute_notebook \"../Taller_BBDD_Practica/Postgres.ipynb\""
   ]
  },
  {
   "cell_type": "markdown",
   "metadata": {},
   "source": [
    "## Copy files"
   ]
  },
  {
   "cell_type": "code",
   "execution_count": 5,
   "metadata": {},
   "outputs": [
    {
     "name": "stdout",
     "output_type": "stream",
     "text": [
      "Ok ;-)\n"
     ]
    }
   ],
   "source": [
    "%%bash\n",
    "\n",
    "HOME_DIRECTORY=../Taller_BBDD/postgres/practica\n",
    "\n",
    "rm -rf $HOME_DIRECTORY\n",
    "mkdir -p $HOME_DIRECTORY\n",
    "\n",
    "pushd . > /tmp/null\n",
    "cd ../Taller_BBDD_Practica\n",
    "cp \"Caso de Uso.ipynb\" \"Postgres.ipynb\" $HOME_DIRECTORY\n",
    "cp -r data  $HOME_DIRECTORY\n",
    "\n",
    "popd > /tmp/null\n",
    "echo \"Ok ;-)\""
   ]
  },
  {
   "cell_type": "markdown",
   "metadata": {},
   "source": [
    "# Stop Service"
   ]
  },
  {
   "cell_type": "code",
   "execution_count": 9,
   "metadata": {},
   "outputs": [
    {
     "name": "stdout",
     "output_type": "stream",
     "text": [
      "Stopping pgadmin_container  ... \n",
      "Stopping postgres_container ... \n",
      "\u001b[1Bping postgres_container ... \u001b[32mdone\u001b[0m\u001b[1A\u001b[2KRemoving pgadmin_container  ... \n",
      "Removing postgres_container ... \n",
      "\u001b[2BRemoving network compose-postgres_postgres\n"
     ]
    }
   ],
   "source": [
    "postgres down"
   ]
  },
  {
   "cell_type": "code",
   "execution_count": null,
   "metadata": {},
   "outputs": [],
   "source": []
  }
 ],
 "metadata": {
  "kernelspec": {
   "display_name": "Python 3",
   "language": "python",
   "name": "python3"
  },
  "language_info": {
   "codemirror_mode": {
    "name": "ipython",
    "version": 3
   },
   "file_extension": ".py",
   "mimetype": "text/x-python",
   "name": "python",
   "nbconvert_exporter": "python",
   "pygments_lexer": "ipython3",
   "version": "3.6.12"
  }
 },
 "nbformat": 4,
 "nbformat_minor": 4
}
