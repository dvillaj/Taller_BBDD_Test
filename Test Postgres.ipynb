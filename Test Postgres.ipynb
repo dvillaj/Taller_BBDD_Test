{
 "cells": [
  {
   "cell_type": "markdown",
   "metadata": {},
   "source": [
    "# Setup"
   ]
  },
  {
   "cell_type": "code",
   "execution_count": 13,
   "metadata": {},
   "outputs": [],
   "source": [
    "%alias postgres /usr/local/bin/docker-compose -f /opt/compose/compose-postgres/docker-compose.yml"
   ]
  },
  {
   "cell_type": "code",
   "execution_count": 14,
   "metadata": {},
   "outputs": [
    {
     "name": "stdout",
     "output_type": "stream",
     "text": [
      "postgres_container is up-to-date\n",
      "pgadmin_container is up-to-date\n"
     ]
    }
   ],
   "source": [
    "postgres up -d"
   ]
  },
  {
   "cell_type": "code",
   "execution_count": 15,
   "metadata": {},
   "outputs": [],
   "source": [
    "!rm -rf ./postgresql"
   ]
  },
  {
   "cell_type": "markdown",
   "metadata": {},
   "source": [
    "# Tests"
   ]
  },
  {
   "cell_type": "code",
   "execution_count": 18,
   "metadata": {},
   "outputs": [
    {
     "name": "stdout",
     "output_type": "stream",
     "text": [
      "Overwriting ./functions.sh\n"
     ]
    }
   ],
   "source": [
    "%%file ./functions.sh\n",
    "export HOME_NOTEBOOKS=/home/learner/notebooks/Taller_BBDD/postgresql\n",
    "export OUTPUT=\"./postgresql\"\n",
    "\n",
    "function execute_notebook {\n",
    "    DIRECTORY=$1\n",
    "    NOTEBOOK=$2\n",
    "    mkdir -p \"$OUTPUT/$DIRECTORY\"\n",
    "    # echo \"jupyter nbconvert --ExecutePreprocessor.timeout=-1 --execute --output-dir=$OUTPUT/$DIRECTORY  --to HTML \\\"$HOME_NOTEBOOKS/$DIRECTORY/$NOTEBOOK.ipynb\\\"\"\n",
    "    jupyter nbconvert --ExecutePreprocessor.timeout=-1 --execute --output-dir=$OUTPUT/$DIRECTORY  --to html_embed  \"$HOME_NOTEBOOKS/$DIRECTORY/$NOTEBOOK.ipynb\"\n",
    "    if [ $? -eq 0 ]; then\n",
    "        jupyter nbconvert --clear-output --inplace \"$HOME_NOTEBOOKS/$DIRECTORY/$NOTEBOOK.ipynb\"\n",
    "    fi\n",
    "}"
   ]
  },
  {
   "cell_type": "code",
   "execution_count": 19,
   "metadata": {},
   "outputs": [
    {
     "name": "stderr",
     "output_type": "stream",
     "text": [
      "[NbConvertApp] Converting notebook /home/learner/notebooks/Taller_BBDD/postgresql/./CRUD_PostgreSQL.ipynb to html_embed\n",
      "[NbConvertApp] Converting notebook /home/learner/notebooks/Taller_BBDD/postgresql/./CRUD_PostgreSQL.ipynb to notebook\n"
     ]
    }
   ],
   "source": [
    "%%bash\n",
    "source \"./functions.sh\"\n",
    "execute_notebook . CRUD_PostgreSQL"
   ]
  },
  {
   "cell_type": "code",
   "execution_count": 21,
   "metadata": {},
   "outputs": [
    {
     "name": "stderr",
     "output_type": "stream",
     "text": [
      "[NbConvertApp] Converting notebook /home/learner/notebooks/Taller_BBDD/postgresql/practica/Caso de Uso.ipynb to html_embed\n",
      "[NbConvertApp] Converting notebook /home/learner/notebooks/Taller_BBDD/postgresql/practica/Caso de Uso.ipynb to notebook\n"
     ]
    }
   ],
   "source": [
    "%%bash\n",
    "source \"./functions.sh\"\n",
    "execute_notebook practica \"Caso de Uso\""
   ]
  },
  {
   "cell_type": "code",
   "execution_count": 22,
   "metadata": {},
   "outputs": [
    {
     "name": "stderr",
     "output_type": "stream",
     "text": [
      "[NbConvertApp] Converting notebook /home/learner/notebooks/Taller_BBDD/postgresql/practica/Postgres.ipynb to html_embed\n",
      "[NbConvertApp] Converting notebook /home/learner/notebooks/Taller_BBDD/postgresql/practica/Postgres.ipynb to notebook\n"
     ]
    }
   ],
   "source": [
    "%%bash\n",
    "source \"./functions.sh\"\n",
    "execute_notebook practica Postgres"
   ]
  },
  {
   "cell_type": "code",
   "execution_count": 23,
   "metadata": {},
   "outputs": [
    {
     "name": "stderr",
     "output_type": "stream",
     "text": [
      "[NbConvertApp] Converting notebook /home/learner/notebooks/Taller_BBDD/postgresql/black/Caso de Uso.ipynb to html_embed\n",
      "[NbConvertApp] Converting notebook /home/learner/notebooks/Taller_BBDD/postgresql/black/Caso de Uso.ipynb to notebook\n"
     ]
    }
   ],
   "source": [
    "%%bash\n",
    "source \"./functions.sh\"\n",
    "execute_notebook black \"Caso de Uso\"\n"
   ]
  },
  {
   "cell_type": "code",
   "execution_count": 24,
   "metadata": {},
   "outputs": [
    {
     "name": "stderr",
     "output_type": "stream",
     "text": [
      "[NbConvertApp] Converting notebook /home/learner/notebooks/Taller_BBDD/postgresql/black/Tarjetas Black.ipynb to html_embed\n",
      "[NbConvertApp] Converting notebook /home/learner/notebooks/Taller_BBDD/postgresql/black/Tarjetas Black.ipynb to notebook\n"
     ]
    }
   ],
   "source": [
    "%%bash\n",
    "source \"./functions.sh\"\n",
    "execute_notebook black \"Tarjetas Black\""
   ]
  },
  {
   "cell_type": "code",
   "execution_count": 25,
   "metadata": {},
   "outputs": [
    {
     "name": "stderr",
     "output_type": "stream",
     "text": [
      "[NbConvertApp] Converting notebook /home/learner/notebooks/Taller_BBDD/postgresql/sql/DVD Rental.ipynb to html_embed\n",
      "[NbConvertApp] Converting notebook /home/learner/notebooks/Taller_BBDD/postgresql/sql/DVD Rental.ipynb to notebook\n"
     ]
    }
   ],
   "source": [
    "%%bash\n",
    "source \"./functions.sh\"\n",
    "execute_notebook sql \"DVD Rental\""
   ]
  },
  {
   "cell_type": "code",
   "execution_count": 26,
   "metadata": {},
   "outputs": [
    {
     "name": "stderr",
     "output_type": "stream",
     "text": [
      "[NbConvertApp] Converting notebook /home/learner/notebooks/Taller_BBDD/postgresql/sql/Tarjetas Black.ipynb to html_embed\n",
      "[NbConvertApp] Converting notebook /home/learner/notebooks/Taller_BBDD/postgresql/sql/Tarjetas Black.ipynb to notebook\n"
     ]
    }
   ],
   "source": [
    "%%bash\n",
    "source \"./functions.sh\"\n",
    "execute_notebook sql \"Tarjetas Black\""
   ]
  },
  {
   "cell_type": "code",
   "execution_count": 28,
   "metadata": {},
   "outputs": [
    {
     "name": "stderr",
     "output_type": "stream",
     "text": [
      "[NbConvertApp] Converting notebook /home/learner/notebooks/Taller_BBDD/postgresql/twitter/PostgreSQL_Twitter.ipynb to html_embed\n",
      "[NbConvertApp] Converting notebook /home/learner/notebooks/Taller_BBDD/postgresql/twitter/PostgreSQL_Twitter.ipynb to notebook\n"
     ]
    }
   ],
   "source": [
    "%%bash\n",
    "source \"./functions.sh\"\n",
    "execute_notebook twitter PostgreSQL_Twitter"
   ]
  },
  {
   "cell_type": "code",
   "execution_count": 29,
   "metadata": {},
   "outputs": [
    {
     "name": "stderr",
     "output_type": "stream",
     "text": [
      "[NbConvertApp] Converting notebook /home/learner/notebooks/Taller_BBDD/postgresql/util/Read_Csv_Json.ipynb to html_embed\n",
      "[NbConvertApp] Converting notebook /home/learner/notebooks/Taller_BBDD/postgresql/util/Read_Csv_Json.ipynb to notebook\n"
     ]
    }
   ],
   "source": [
    "%%bash\n",
    "source \"./functions.sh\"\n",
    "execute_notebook util Read_Csv_Json"
   ]
  },
  {
   "cell_type": "markdown",
   "metadata": {},
   "source": [
    "# Service Down"
   ]
  },
  {
   "cell_type": "code",
   "execution_count": 10,
   "metadata": {},
   "outputs": [
    {
     "name": "stdout",
     "output_type": "stream",
     "text": [
      "postgres_container is up-to-date\n",
      "pgadmin_container is up-to-date\n"
     ]
    }
   ],
   "source": [
    "postgres up -d"
   ]
  }
 ],
 "metadata": {
  "kernelspec": {
   "display_name": "Python 3",
   "language": "python",
   "name": "python3"
  },
  "language_info": {
   "codemirror_mode": {
    "name": "ipython",
    "version": 3
   },
   "file_extension": ".py",
   "mimetype": "text/x-python",
   "name": "python",
   "nbconvert_exporter": "python",
   "pygments_lexer": "ipython3",
   "version": "3.6.12"
  }
 },
 "nbformat": 4,
 "nbformat_minor": 4
}
