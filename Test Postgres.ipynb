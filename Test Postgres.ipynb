{
 "cells": [
  {
   "cell_type": "markdown",
   "metadata": {},
   "source": [
    "# Tests Postgres"
   ]
  },
  {
   "cell_type": "raw",
   "metadata": {},
   "source": [
    "%%bash\n",
    "\n",
    "function join_by { local IFS=\"$1\"; shift; echo \"$*\"; }\n",
    "\n",
    "\n",
    "NOTEBOOK=\"../Taller_BBDD_Practica/dff/Caso de Uso.ipynb\"\n",
    "IFS='/' read -r -a ARRAY <<< \"$NOTEBOOK\"\n",
    "LEN=`expr ${#ARRAY[@]} - 1`\n",
    "    \n",
    "echo \"${ARRAY[@]}\"\n",
    "    \n",
    "DIRECTORY=`join_by / \"${ARRAY[@]:0:$LEN}\"`\n",
    "HOME_OUTPUT=\"${DIRECTORY:1}\"\n",
    "\n",
    "echo $DIRECTORY\n",
    "echo $HOME_OUTPUT"
   ]
  },
  {
   "cell_type": "raw",
   "metadata": {},
   "source": [
    "%%file ./functions.sh\n",
    "\n",
    "function join_by { local d=$1; shift; local f=$1; shift; printf %s \"$f\" \"${@/#/$d}\"; }\n",
    "\n",
    "function execute_notebook {\n",
    "    NOTEBOOK=$1\n",
    "    IFS='/' read -r -a ARRAY <<< \"$NOTEBOOK\"\n",
    "    LEN=`expr ${#ARRAY[@]} - 1`\n",
    "    \n",
    "    HOME_OUTPUT=`join_by / \"${ARRAY[@]:0:$LEN}\"`\n",
    "    HOME_OUTPUT=\"${HOME_OUTPUT:1}\"\n",
    "    \n",
    "    jupyter nbconvert --ExecutePreprocessor.timeout=-1 --execute --output-dir=$HOME_OUTPUT --to HTML \"$NOTEBOOK\"\n",
    "    if [ $? -eq 0 ]; then\n",
    "        jupyter nbconvert --clear-output --inplace \"$NOTEBOOK\"\n",
    "    fi\n",
    "}"
   ]
  },
  {
   "cell_type": "code",
   "execution_count": 5,
   "metadata": {},
   "outputs": [
    {
     "name": "stderr",
     "output_type": "stream",
     "text": [
      "[NbConvertApp] Converting notebook ../Taller_BBDD/postgresql/CRUD_PostgreSQL.ipynb to HTML\n",
      "[NbConvertApp] Converting notebook ../Taller_BBDD/postgresql/CRUD_PostgreSQL.ipynb to notebook\n"
     ]
    }
   ],
   "source": [
    "%%bash\n",
    "source \"./functions.sh\"\n",
    "execute_notebook \"../Taller_BBDD/postgresql/CRUD_PostgreSQL.ipynb\""
   ]
  },
  {
   "cell_type": "code",
   "execution_count": 6,
   "metadata": {},
   "outputs": [
    {
     "name": "stderr",
     "output_type": "stream",
     "text": [
      "[NbConvertApp] Converting notebook ../Taller_BBDD/postgresql/black/Caso de Uso.ipynb to HTML\n",
      "[NbConvertApp] Converting notebook ../Taller_BBDD/postgresql/black/Caso de Uso.ipynb to notebook\n"
     ]
    }
   ],
   "source": [
    "%%bash\n",
    "source \"./functions.sh\"\n",
    "execute_notebook \"../Taller_BBDD/postgresql/black/Caso de Uso.ipynb\"\n"
   ]
  },
  {
   "cell_type": "code",
   "execution_count": 7,
   "metadata": {},
   "outputs": [
    {
     "name": "stderr",
     "output_type": "stream",
     "text": [
      "[NbConvertApp] Converting notebook ../Taller_BBDD/postgresql/black/Tarjetas Black.ipynb to HTML\n",
      "[NbConvertApp] Converting notebook ../Taller_BBDD/postgresql/black/Tarjetas Black.ipynb to notebook\n"
     ]
    }
   ],
   "source": [
    "%%bash\n",
    "source \"./functions.sh\"\n",
    "execute_notebook \"../Taller_BBDD/postgresql/black/Tarjetas Black.ipynb\""
   ]
  },
  {
   "cell_type": "code",
   "execution_count": 8,
   "metadata": {},
   "outputs": [
    {
     "name": "stderr",
     "output_type": "stream",
     "text": [
      "[NbConvertApp] Converting notebook ../Taller_BBDD/postgresql/sql/DVD Rental.ipynb to HTML\n",
      "[NbConvertApp] Converting notebook ../Taller_BBDD/postgresql/sql/DVD Rental.ipynb to notebook\n"
     ]
    }
   ],
   "source": [
    "%%bash\n",
    "source \"./functions.sh\"\n",
    "execute_notebook \"../Taller_BBDD/postgresql/sql/DVD Rental.ipynb\""
   ]
  },
  {
   "cell_type": "code",
   "execution_count": 9,
   "metadata": {},
   "outputs": [
    {
     "name": "stderr",
     "output_type": "stream",
     "text": [
      "[NbConvertApp] Converting notebook ../Taller_BBDD/postgresql/sql/Tarjetas Black.ipynb to HTML\n",
      "[NbConvertApp] Converting notebook ../Taller_BBDD/postgresql/sql/Tarjetas Black.ipynb to notebook\n"
     ]
    }
   ],
   "source": [
    "%%bash\n",
    "source \"./functions.sh\"\n",
    "execute_notebook \"../Taller_BBDD/postgresql/sql/Tarjetas Black.ipynb\""
   ]
  },
  {
   "cell_type": "code",
   "execution_count": 10,
   "metadata": {},
   "outputs": [
    {
     "name": "stderr",
     "output_type": "stream",
     "text": [
      "[NbConvertApp] Converting notebook ../Taller_BBDD/postgresql/twitter/PostgreSQL_Twitter.ipynb to HTML\n",
      "[NbConvertApp] Converting notebook ../Taller_BBDD/postgresql/twitter/PostgreSQL_Twitter.ipynb to notebook\n"
     ]
    }
   ],
   "source": [
    "%%bash\n",
    "source \"./functions.sh\"\n",
    "execute_notebook \"../Taller_BBDD/postgresql/twitter/PostgreSQL_Twitter.ipynb\""
   ]
  },
  {
   "cell_type": "code",
   "execution_count": 11,
   "metadata": {},
   "outputs": [
    {
     "name": "stderr",
     "output_type": "stream",
     "text": [
      "[NbConvertApp] Converting notebook ../Taller_BBDD/postgresql/util/Read_Csv_Json.ipynb to HTML\n",
      "[NbConvertApp] Converting notebook ../Taller_BBDD/postgresql/util/Read_Csv_Json.ipynb to notebook\n"
     ]
    }
   ],
   "source": [
    "%%bash\n",
    "source \"./functions.sh\"\n",
    "execute_notebook \"../Taller_BBDD/postgresql/util/Read_Csv_Json.ipynb\""
   ]
  },
  {
   "cell_type": "code",
   "execution_count": null,
   "metadata": {},
   "outputs": [],
   "source": []
  }
 ],
 "metadata": {
  "kernelspec": {
   "display_name": "Python 3",
   "language": "python",
   "name": "python3"
  },
  "language_info": {
   "codemirror_mode": {
    "name": "ipython",
    "version": 3
   },
   "file_extension": ".py",
   "mimetype": "text/x-python",
   "name": "python",
   "nbconvert_exporter": "python",
   "pygments_lexer": "ipython3",
   "version": "3.6.12"
  }
 },
 "nbformat": 4,
 "nbformat_minor": 4
}
