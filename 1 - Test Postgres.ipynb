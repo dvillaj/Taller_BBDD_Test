{
 "cells": [
  {
   "cell_type": "markdown",
   "metadata": {},
   "source": [
    "# Setup"
   ]
  },
  {
   "cell_type": "code",
   "execution_count": 65,
   "metadata": {},
   "outputs": [],
   "source": [
    "%alias postgres docker-compose -f /opt/compose/compose-postgres/docker-compose.yml"
   ]
  },
  {
   "cell_type": "code",
   "execution_count": 66,
   "metadata": {},
   "outputs": [
    {
     "name": "stdout",
     "output_type": "stream",
     "text": [
      "CONTAINER ID   IMAGE     COMMAND   CREATED   STATUS    PORTS     NAMES\n"
     ]
    }
   ],
   "source": [
    "!docker ps"
   ]
  },
  {
   "cell_type": "markdown",
   "metadata": {},
   "source": [
    "[Resources](.resources.html)"
   ]
  },
  {
   "cell_type": "code",
   "execution_count": 67,
   "metadata": {},
   "outputs": [
    {
     "name": "stdout",
     "output_type": "stream",
     "text": [
      "Creating network \"compose-postgres_postgres\" with driver \"bridge\"\n",
      "Creating postgres_container ... \n",
      "Creating pgadmin_container  ... \n",
      "\u001b[1Bting pgadmin_container  ... \u001b[32mdone\u001b[0m"
     ]
    }
   ],
   "source": [
    "postgres up -d"
   ]
  },
  {
   "cell_type": "code",
   "execution_count": 68,
   "metadata": {},
   "outputs": [
    {
     "name": "stdout",
     "output_type": "stream",
     "text": [
      "       Name                  Command            State            Ports          \n",
      "--------------------------------------------------------------------------------\n",
      "pgadmin_container    /entrypoint.sh             Up      443/tcp, 0.0.0.0:5050->8\n",
      "                                                        0/tcp,:::5050->80/tcp   \n",
      "postgres_container   docker-entrypoint.sh       Up      0.0.0.0:5432->5432/tcp,:\n",
      "                     postgres                           ::5432->5432/tcp        \n"
     ]
    }
   ],
   "source": [
    "postgres ps"
   ]
  },
  {
   "cell_type": "markdown",
   "metadata": {},
   "source": [
    "# Tests Postgres"
   ]
  },
  {
   "cell_type": "code",
   "execution_count": 50,
   "metadata": {},
   "outputs": [
    {
     "name": "stdout",
     "output_type": "stream",
     "text": [
      "/home/learner/notebooks/Taller_BBDD/3-postgresql/CRUD_PostgreSQL.ipynb\n",
      "/home/learner/notebooks/Taller_BBDD/3-postgresql/sql/Tutorial SQL. DVD Rental.ipynb\n",
      "/home/learner/notebooks/Taller_BBDD/3-postgresql/sql/Tarjetas Black.ipynb\n",
      "/home/learner/notebooks/Taller_BBDD/3-postgresql/extra/Views.ipynb\n",
      "/home/learner/notebooks/Taller_BBDD/3-postgresql/extra/Read_Csv_Json.ipynb\n"
     ]
    }
   ],
   "source": [
    "import glob\n",
    "\n",
    "for filename in glob.iglob('/home/learner/notebooks/Taller_BBDD/3-postgresql/**/*.ipynb', recursive=True):\n",
    "    print(filename)"
   ]
  },
  {
   "cell_type": "code",
   "execution_count": 51,
   "metadata": {},
   "outputs": [
    {
     "name": "stderr",
     "output_type": "stream",
     "text": [
      "[NbConvertApp] Converting notebook ../Taller_BBDD/3-postgresql/CRUD_PostgreSQL.ipynb to html_embed\n",
      "[NbConvertApp] Writing 910359 bytes to html/Taller_BBDD/3-postgresql/CRUD_PostgreSQL.html\n",
      "[NbConvertApp] Converting notebook ../Taller_BBDD/3-postgresql/CRUD_PostgreSQL.ipynb to notebook\n",
      "[NbConvertApp] Writing 5124 bytes to ../Taller_BBDD/3-postgresql/CRUD_PostgreSQL.ipynb\n"
     ]
    }
   ],
   "source": [
    "%%bash\n",
    "source \"./functions.sh\"\n",
    "execute_notebook \"../Taller_BBDD/3-postgresql/CRUD_PostgreSQL.ipynb\""
   ]
  },
  {
   "cell_type": "code",
   "execution_count": 52,
   "metadata": {},
   "outputs": [
    {
     "name": "stderr",
     "output_type": "stream",
     "text": [
      "[NbConvertApp] Converting notebook ../Taller_BBDD/3-postgresql/extra/Read_Csv_Json.ipynb to html_embed\n",
      "[NbConvertApp] Writing 896238 bytes to html/Taller_BBDD/3-postgresql/extra/Read_Csv_Json.html\n",
      "[NbConvertApp] Converting notebook ../Taller_BBDD/3-postgresql/extra/Read_Csv_Json.ipynb to notebook\n",
      "[NbConvertApp] Writing 5313 bytes to ../Taller_BBDD/3-postgresql/extra/Read_Csv_Json.ipynb\n"
     ]
    }
   ],
   "source": [
    "%%bash\n",
    "source \"./functions.sh\"\n",
    "execute_notebook \"../Taller_BBDD/3-postgresql/extra/Read_Csv_Json.ipynb\""
   ]
  },
  {
   "cell_type": "code",
   "execution_count": 53,
   "metadata": {},
   "outputs": [
    {
     "name": "stderr",
     "output_type": "stream",
     "text": [
      "[NbConvertApp] Converting notebook ../Taller_BBDD/3-postgresql/sql/Tarjetas Black.ipynb to html_embed\n",
      "[NbConvertApp] Writing 638107 bytes to html/Taller_BBDD/3-postgresql/sql/Tarjetas Black.html\n",
      "[NbConvertApp] Converting notebook ../Taller_BBDD/3-postgresql/sql/Tarjetas Black.ipynb to notebook\n",
      "[NbConvertApp] Writing 3684 bytes to ../Taller_BBDD/3-postgresql/sql/Tarjetas Black.ipynb\n"
     ]
    }
   ],
   "source": [
    "%%bash\n",
    "source \"./functions.sh\"\n",
    "execute_notebook \"../Taller_BBDD/3-postgresql/sql/Tarjetas Black.ipynb\""
   ]
  },
  {
   "cell_type": "code",
   "execution_count": 69,
   "metadata": {},
   "outputs": [
    {
     "name": "stderr",
     "output_type": "stream",
     "text": [
      "[NbConvertApp] Converting notebook ../Taller_BBDD/3-postgresql/extra/Views.ipynb to html_embed\n",
      "[NbConvertApp] Writing 588542 bytes to html/Taller_BBDD/3-postgresql/extra/Views.html\n",
      "[NbConvertApp] Converting notebook ../Taller_BBDD/3-postgresql/extra/Views.ipynb to notebook\n",
      "[NbConvertApp] Writing 3108 bytes to ../Taller_BBDD/3-postgresql/extra/Views.ipynb\n"
     ]
    }
   ],
   "source": [
    "%%bash\n",
    "source \"./functions.sh\"\n",
    "execute_notebook \"../Taller_BBDD/3-postgresql/extra/Views.ipynb\""
   ]
  },
  {
   "cell_type": "markdown",
   "metadata": {
    "tags": []
   },
   "source": [
    "# Caso de Uso"
   ]
  },
  {
   "cell_type": "code",
   "execution_count": 55,
   "metadata": {},
   "outputs": [
    {
     "name": "stdout",
     "output_type": "stream",
     "text": [
      "/home/learner/notebooks/Taller_BBDD/2-caso_de_uso/2-PostgresSQL.ipynb\n",
      "/home/learner/notebooks/Taller_BBDD/2-caso_de_uso/6-Neo4j.ipynb\n",
      "/home/learner/notebooks/Taller_BBDD/2-caso_de_uso/3-Riak.ipynb\n",
      "/home/learner/notebooks/Taller_BBDD/2-caso_de_uso/5-MongoDB.ipynb\n",
      "/home/learner/notebooks/Taller_BBDD/2-caso_de_uso/4-Cassandra.ipynb\n",
      "/home/learner/notebooks/Taller_BBDD/2-caso_de_uso/1-Caso de Uso.ipynb\n"
     ]
    }
   ],
   "source": [
    "import glob\n",
    "\n",
    "for filename in glob.iglob('/home/learner/notebooks/Taller_BBDD/2-caso_de_uso/**/*.ipynb', recursive=True):\n",
    "    print(filename)"
   ]
  },
  {
   "cell_type": "code",
   "execution_count": 56,
   "metadata": {},
   "outputs": [
    {
     "name": "stderr",
     "output_type": "stream",
     "text": [
      "[NbConvertApp] Converting notebook ../Taller_BBDD/2-caso_de_uso/1-Caso de Uso.ipynb to html_embed\n",
      "[NbConvertApp] Writing 1575107 bytes to html/Taller_BBDD/2-caso_de_uso/1-Caso de Uso.html\n",
      "[NbConvertApp] Converting notebook ../Taller_BBDD/2-caso_de_uso/1-Caso de Uso.ipynb to notebook\n",
      "[NbConvertApp] Writing 755701 bytes to ../Taller_BBDD/2-caso_de_uso/1-Caso de Uso.ipynb\n"
     ]
    }
   ],
   "source": [
    "%%bash\n",
    "source \"./functions.sh\"\n",
    "execute_notebook \"../Taller_BBDD/2-caso_de_uso/1-Caso de Uso.ipynb\""
   ]
  },
  {
   "cell_type": "code",
   "execution_count": 57,
   "metadata": {},
   "outputs": [
    {
     "name": "stderr",
     "output_type": "stream",
     "text": [
      "[NbConvertApp] Converting notebook ../Taller_BBDD/2-caso_de_uso/2-PostgresSQL.ipynb to html_embed\n",
      "[NbConvertApp] Writing 671387 bytes to html/Taller_BBDD/2-caso_de_uso/2-PostgresSQL.html\n",
      "[NbConvertApp] Converting notebook ../Taller_BBDD/2-caso_de_uso/2-PostgresSQL.ipynb to notebook\n",
      "[NbConvertApp] Writing 12435 bytes to ../Taller_BBDD/2-caso_de_uso/2-PostgresSQL.ipynb\n"
     ]
    }
   ],
   "source": [
    "%%bash\n",
    "source \"./functions.sh\"\n",
    "execute_notebook \"../Taller_BBDD/2-caso_de_uso/2-PostgresSQL.ipynb\""
   ]
  },
  {
   "cell_type": "markdown",
   "metadata": {},
   "source": [
    "# Twitter"
   ]
  },
  {
   "cell_type": "code",
   "execution_count": 58,
   "metadata": {},
   "outputs": [
    {
     "name": "stdout",
     "output_type": "stream",
     "text": [
      "/home/learner/notebooks/Taller_BBDD/twitter/2-Riak Twitter.ipynb\n",
      "/home/learner/notebooks/Taller_BBDD/twitter/4-MongoDB Twitter.ipynb\n",
      "/home/learner/notebooks/Taller_BBDD/twitter/3-Apache Cassandra Twitter.ipynb\n",
      "/home/learner/notebooks/Taller_BBDD/twitter/1-PostgreSQL Twitter.ipynb\n",
      "/home/learner/notebooks/Taller_BBDD/twitter/5-Neo4j Twitter.ipynb\n"
     ]
    }
   ],
   "source": [
    "import glob\n",
    "\n",
    "for filename in glob.iglob('/home/learner/notebooks/Taller_BBDD/twitter/**/*.ipynb', recursive=True):\n",
    "    print(filename)"
   ]
  },
  {
   "cell_type": "code",
   "execution_count": 59,
   "metadata": {},
   "outputs": [
    {
     "name": "stderr",
     "output_type": "stream",
     "text": [
      "[NbConvertApp] Converting notebook ../Taller_BBDD/twitter/1-PostgreSQL Twitter.ipynb to html_embed\n",
      "[NbConvertApp] Writing 1433545 bytes to html/Taller_BBDD/twitter/1-PostgreSQL Twitter.html\n",
      "[NbConvertApp] Converting notebook ../Taller_BBDD/twitter/1-PostgreSQL Twitter.ipynb to notebook\n",
      "[NbConvertApp] Writing 19324 bytes to ../Taller_BBDD/twitter/1-PostgreSQL Twitter.ipynb\n"
     ]
    }
   ],
   "source": [
    "%%bash\n",
    "source \"./functions.sh\"\n",
    "execute_notebook \"../Taller_BBDD/twitter/1-PostgreSQL Twitter.ipynb\""
   ]
  },
  {
   "cell_type": "markdown",
   "metadata": {},
   "source": [
    "# Práctica"
   ]
  },
  {
   "cell_type": "code",
   "execution_count": 60,
   "metadata": {},
   "outputs": [
    {
     "name": "stdout",
     "output_type": "stream",
     "text": [
      "/home/learner/notebooks/Taller_BBDD_Practica/Neo4j.ipynb\n",
      "/home/learner/notebooks/Taller_BBDD_Practica/Cassandra.ipynb\n",
      "/home/learner/notebooks/Taller_BBDD_Practica/Postgres.ipynb\n",
      "/home/learner/notebooks/Taller_BBDD_Practica/Caso de Uso.ipynb\n",
      "/home/learner/notebooks/Taller_BBDD_Practica/Riak.ipynb\n",
      "/home/learner/notebooks/Taller_BBDD_Practica/MongoDB.ipynb\n"
     ]
    }
   ],
   "source": [
    "import glob\n",
    "\n",
    "for filename in glob.iglob('/home/learner/notebooks/Taller_BBDD_Practica/**/*.ipynb', recursive=True):\n",
    "    print(filename)"
   ]
  },
  {
   "cell_type": "code",
   "execution_count": 61,
   "metadata": {},
   "outputs": [
    {
     "name": "stderr",
     "output_type": "stream",
     "text": [
      "[NbConvertApp] Converting notebook ../Taller_BBDD_Practica/Caso de Uso.ipynb to html_embed\n",
      "[NbConvertApp] Writing 1546293 bytes to html/Taller_BBDD_Practica/Caso de Uso.html\n",
      "[NbConvertApp] Converting notebook ../Taller_BBDD_Practica/Caso de Uso.ipynb to notebook\n",
      "[NbConvertApp] Writing 5608 bytes to ../Taller_BBDD_Practica/Caso de Uso.ipynb\n"
     ]
    }
   ],
   "source": [
    "%%bash\n",
    "source \"./functions.sh\"\n",
    "execute_notebook \"../Taller_BBDD_Practica/Caso de Uso.ipynb\""
   ]
  },
  {
   "cell_type": "code",
   "execution_count": 62,
   "metadata": {},
   "outputs": [
    {
     "name": "stderr",
     "output_type": "stream",
     "text": [
      "[NbConvertApp] Converting notebook ../Taller_BBDD_Practica/Postgres.ipynb to html_embed\n",
      "[NbConvertApp] Writing 606559 bytes to html/Taller_BBDD_Practica/Postgres.html\n",
      "[NbConvertApp] Converting notebook ../Taller_BBDD_Practica/Postgres.ipynb to notebook\n",
      "[NbConvertApp] Writing 5302 bytes to ../Taller_BBDD_Practica/Postgres.ipynb\n"
     ]
    }
   ],
   "source": [
    "%%bash\n",
    "source \"./functions.sh\"\n",
    "execute_notebook \"../Taller_BBDD_Practica/Postgres.ipynb\""
   ]
  },
  {
   "cell_type": "markdown",
   "metadata": {},
   "source": [
    "# Stop Service"
   ]
  },
  {
   "cell_type": "code",
   "execution_count": 64,
   "metadata": {},
   "outputs": [
    {
     "name": "stdout",
     "output_type": "stream",
     "text": [
      "Removing network compose-postgres_postgres\n",
      "\u001b[33mWARNING\u001b[0m: Network compose-postgres_postgres not found.\n"
     ]
    }
   ],
   "source": [
    "postgres down"
   ]
  }
 ],
 "metadata": {
  "kernelspec": {
   "display_name": "Python 3 (ipykernel)",
   "language": "python",
   "name": "python3"
  },
  "language_info": {
   "codemirror_mode": {
    "name": "ipython",
    "version": 3
   },
   "file_extension": ".py",
   "mimetype": "text/x-python",
   "name": "python",
   "nbconvert_exporter": "python",
   "pygments_lexer": "ipython3",
   "version": "3.8.10"
  }
 },
 "nbformat": 4,
 "nbformat_minor": 4
}
