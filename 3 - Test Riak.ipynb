{
 "cells": [
  {
   "cell_type": "markdown",
   "metadata": {},
   "source": [
    "# Setup"
   ]
  },
  {
   "cell_type": "code",
   "execution_count": 1,
   "metadata": {},
   "outputs": [],
   "source": [
    "%alias riak docker-compose -f /opt/compose/compose-riak/docker-compose.yml\n",
    "%alias riak-admin docker exec -it compose-riak_coordinator_1 riak-admin"
   ]
  },
  {
   "cell_type": "code",
   "execution_count": 11,
   "metadata": {},
   "outputs": [
    {
     "name": "stdout",
     "output_type": "stream",
     "text": [
      "CONTAINER ID   IMAGE          COMMAND                  CREATED              STATUS              PORTS                                                                                  NAMES\n",
      "ca225eba4b0c   dvillaj/riak   \"/usr/lib/riak/riak-…\"   About a minute ago   Up About a minute   0.0.0.0:8087->8087/tcp, :::8087->8087/tcp, 0.0.0.0:8098->8098/tcp, :::8098->8098/tcp   compose-riak_coordinator_1\n"
     ]
    }
   ],
   "source": [
    "!docker ps"
   ]
  },
  {
   "cell_type": "code",
   "execution_count": 5,
   "metadata": {},
   "outputs": [
    {
     "name": "stdout",
     "output_type": "stream",
     "text": [
      "Creating network \"compose-riak_default\" with the default driver\n",
      "Creating compose-riak_coordinator_1 ... \n",
      "\u001b[1Bting compose-riak_coordinator_1 ... \u001b[32mdone\u001b[0m"
     ]
    }
   ],
   "source": [
    "riak up -d coordinator"
   ]
  },
  {
   "cell_type": "code",
   "execution_count": 6,
   "metadata": {},
   "outputs": [],
   "source": [
    "!sleep 5"
   ]
  },
  {
   "cell_type": "code",
   "execution_count": 7,
   "metadata": {},
   "outputs": [
    {
     "name": "stdout",
     "output_type": "stream",
     "text": [
      "         Name                   Command           State           Ports         \n",
      "--------------------------------------------------------------------------------\n",
      "compose-                 /usr/lib/riak/riak-      Up      0.0.0.0:8087->8087/tcp\n",
      "riak_coordinator_1       cluster.sh                       ,:::8087->8087/tcp, 0.\n",
      "                                                          0.0.0:8098->8098/tcp,:\n",
      "                                                          ::8098->8098/tcp      \n"
     ]
    }
   ],
   "source": [
    "riak ps"
   ]
  },
  {
   "cell_type": "code",
   "execution_count": 8,
   "metadata": {},
   "outputs": [
    {
     "name": "stdout",
     "output_type": "stream",
     "text": [
      "maps created\n",
      "\n",
      "WARNING: After activating maps, nodes in this cluster\n",
      "can no longer be downgraded to a version of Riak prior to 2.0\n",
      "maps has been activated\n",
      "\n",
      "WARNING: Nodes in this cluster can no longer be\n",
      "downgraded to a version of Riak prior to 2.0\n"
     ]
    }
   ],
   "source": [
    "%riak-admin bucket-type create maps '{\"props\":{\"datatype\":\"map\"}}'\n",
    "%riak-admin bucket-type activate maps"
   ]
  },
  {
   "cell_type": "code",
   "execution_count": 9,
   "metadata": {},
   "outputs": [
    {
     "name": "stdout",
     "output_type": "stream",
     "text": [
      "sets created\n",
      "sets has been activated\n"
     ]
    }
   ],
   "source": [
    "%riak-admin bucket-type create sets '{\"props\":{\"datatype\":\"set\"}}'\n",
    "%riak-admin bucket-type activate sets"
   ]
  },
  {
   "cell_type": "code",
   "execution_count": 10,
   "metadata": {},
   "outputs": [
    {
     "name": "stdout",
     "output_type": "stream",
     "text": [
      "counters created\n",
      "counters has been activated\n"
     ]
    }
   ],
   "source": [
    "%riak-admin bucket-type create counters '{\"props\":{\"datatype\":\"counter\"}}'\n",
    "%riak-admin bucket-type activate counters"
   ]
  },
  {
   "cell_type": "markdown",
   "metadata": {},
   "source": [
    "# Test Riak"
   ]
  },
  {
   "cell_type": "code",
   "execution_count": 13,
   "metadata": {},
   "outputs": [
    {
     "name": "stdout",
     "output_type": "stream",
     "text": [
      "/home/learner/notebooks/Taller_BBDD/5-riak/Indices_Secundarios_Riak.ipynb\n",
      "/home/learner/notebooks/Taller_BBDD/5-riak/CRUD_Riak_Python.ipynb\n",
      "/home/learner/notebooks/Taller_BBDD/5-riak/CRUD_Riak.ipynb\n",
      "/home/learner/notebooks/Taller_BBDD/5-riak/util/Cleanup.ipynb\n",
      "/home/learner/notebooks/Taller_BBDD/5-riak/datatypes/Counters.ipynb\n",
      "/home/learner/notebooks/Taller_BBDD/5-riak/datatypes/Sets.ipynb\n",
      "/home/learner/notebooks/Taller_BBDD/5-riak/datatypes/Maps.ipynb\n"
     ]
    }
   ],
   "source": [
    "import glob\n",
    "\n",
    "for filename in glob.iglob('/home/learner/notebooks/Taller_BBDD/5-riak/**/*.ipynb', recursive=True):\n",
    "    print(filename)"
   ]
  },
  {
   "cell_type": "code",
   "execution_count": 14,
   "metadata": {},
   "outputs": [
    {
     "name": "stderr",
     "output_type": "stream",
     "text": [
      "[NbConvertApp] Converting notebook ../Taller_BBDD/5-riak/Indices_Secundarios_Riak.ipynb to html_embed\n",
      "[NbConvertApp] Writing 615080 bytes to html/Taller_BBDD/5-riak/Indices_Secundarios_Riak.html\n",
      "[NbConvertApp] Converting notebook ../Taller_BBDD/5-riak/Indices_Secundarios_Riak.ipynb to notebook\n",
      "[NbConvertApp] Writing 7465 bytes to ../Taller_BBDD/5-riak/Indices_Secundarios_Riak.ipynb\n"
     ]
    }
   ],
   "source": [
    "%%bash\n",
    "source \"./functions.sh\"\n",
    "execute_notebook \"../Taller_BBDD/5-riak/Indices_Secundarios_Riak.ipynb\""
   ]
  },
  {
   "cell_type": "code",
   "execution_count": 15,
   "metadata": {},
   "outputs": [
    {
     "name": "stderr",
     "output_type": "stream",
     "text": [
      "[NbConvertApp] Converting notebook ../Taller_BBDD/5-riak/CRUD_Riak_Python.ipynb to html_embed\n",
      "[NbConvertApp] Writing 609175 bytes to html/Taller_BBDD/5-riak/CRUD_Riak_Python.html\n",
      "[NbConvertApp] Converting notebook ../Taller_BBDD/5-riak/CRUD_Riak_Python.ipynb to notebook\n",
      "[NbConvertApp] Writing 7365 bytes to ../Taller_BBDD/5-riak/CRUD_Riak_Python.ipynb\n"
     ]
    }
   ],
   "source": [
    "%%bash\n",
    "source \"./functions.sh\"\n",
    "execute_notebook \"../Taller_BBDD/5-riak/CRUD_Riak_Python.ipynb\""
   ]
  },
  {
   "cell_type": "code",
   "execution_count": 16,
   "metadata": {},
   "outputs": [
    {
     "name": "stderr",
     "output_type": "stream",
     "text": [
      "[NbConvertApp] Converting notebook ../Taller_BBDD/5-riak/CRUD_Riak.ipynb to html_embed\n",
      "[NbConvertApp] Writing 592171 bytes to html/Taller_BBDD/5-riak/CRUD_Riak.html\n",
      "[NbConvertApp] Converting notebook ../Taller_BBDD/5-riak/CRUD_Riak.ipynb to notebook\n",
      "[NbConvertApp] Writing 3524 bytes to ../Taller_BBDD/5-riak/CRUD_Riak.ipynb\n"
     ]
    }
   ],
   "source": [
    "%%bash\n",
    "source \"./functions.sh\"\n",
    "execute_notebook \"../Taller_BBDD/5-riak/CRUD_Riak.ipynb\""
   ]
  },
  {
   "cell_type": "code",
   "execution_count": 17,
   "metadata": {},
   "outputs": [
    {
     "name": "stderr",
     "output_type": "stream",
     "text": [
      "[NbConvertApp] Converting notebook ../Taller_BBDD/5-riak/util/Cleanup.ipynb to html_embed\n",
      "[NbConvertApp] Writing 582308 bytes to html/Taller_BBDD/5-riak/util/Cleanup.html\n",
      "[NbConvertApp] Converting notebook ../Taller_BBDD/5-riak/util/Cleanup.ipynb to notebook\n",
      "[NbConvertApp] Writing 2543 bytes to ../Taller_BBDD/5-riak/util/Cleanup.ipynb\n"
     ]
    }
   ],
   "source": [
    "%%bash\n",
    "source \"./functions.sh\"\n",
    "execute_notebook \"../Taller_BBDD/5-riak/util/Cleanup.ipynb\""
   ]
  },
  {
   "cell_type": "code",
   "execution_count": 18,
   "metadata": {},
   "outputs": [
    {
     "name": "stderr",
     "output_type": "stream",
     "text": [
      "[NbConvertApp] Converting notebook ../Taller_BBDD/5-riak/datatypes/Counters.ipynb to html_embed\n",
      "[NbConvertApp] Writing 594394 bytes to html/Taller_BBDD/5-riak/datatypes/Counters.html\n",
      "[NbConvertApp] Converting notebook ../Taller_BBDD/5-riak/datatypes/Counters.ipynb to notebook\n",
      "[NbConvertApp] Writing 6016 bytes to ../Taller_BBDD/5-riak/datatypes/Counters.ipynb\n"
     ]
    }
   ],
   "source": [
    "%%bash\n",
    "source \"./functions.sh\"\n",
    "execute_notebook \"../Taller_BBDD/5-riak/datatypes/Counters.ipynb\""
   ]
  },
  {
   "cell_type": "code",
   "execution_count": 19,
   "metadata": {},
   "outputs": [
    {
     "name": "stderr",
     "output_type": "stream",
     "text": [
      "[NbConvertApp] Converting notebook ../Taller_BBDD/5-riak/datatypes/Sets.ipynb to html_embed\n",
      "[NbConvertApp] Writing 594224 bytes to html/Taller_BBDD/5-riak/datatypes/Sets.html\n",
      "[NbConvertApp] Converting notebook ../Taller_BBDD/5-riak/datatypes/Sets.ipynb to notebook\n",
      "[NbConvertApp] Writing 5826 bytes to ../Taller_BBDD/5-riak/datatypes/Sets.ipynb\n"
     ]
    }
   ],
   "source": [
    "%%bash\n",
    "source \"./functions.sh\"\n",
    "execute_notebook \"../Taller_BBDD/5-riak/datatypes/Sets.ipynb\""
   ]
  },
  {
   "cell_type": "code",
   "execution_count": 20,
   "metadata": {},
   "outputs": [
    {
     "name": "stderr",
     "output_type": "stream",
     "text": [
      "[NbConvertApp] Converting notebook ../Taller_BBDD/5-riak/datatypes/Maps.ipynb to html_embed\n",
      "[NbConvertApp] Writing 622504 bytes to html/Taller_BBDD/5-riak/datatypes/Maps.html\n",
      "[NbConvertApp] Converting notebook ../Taller_BBDD/5-riak/datatypes/Maps.ipynb to notebook\n",
      "[NbConvertApp] Writing 12858 bytes to ../Taller_BBDD/5-riak/datatypes/Maps.ipynb\n"
     ]
    }
   ],
   "source": [
    "%%bash\n",
    "source \"./functions.sh\"\n",
    "execute_notebook \"../Taller_BBDD/5-riak/datatypes/Maps.ipynb\""
   ]
  },
  {
   "cell_type": "markdown",
   "metadata": {
    "tags": []
   },
   "source": [
    "# Caso de Uso"
   ]
  },
  {
   "cell_type": "code",
   "execution_count": 21,
   "metadata": {},
   "outputs": [
    {
     "name": "stdout",
     "output_type": "stream",
     "text": [
      "/home/learner/notebooks/Taller_BBDD/2-caso_de_uso/2-PostgresSQL.ipynb\n",
      "/home/learner/notebooks/Taller_BBDD/2-caso_de_uso/6-Neo4j.ipynb\n",
      "/home/learner/notebooks/Taller_BBDD/2-caso_de_uso/3-Riak.ipynb\n",
      "/home/learner/notebooks/Taller_BBDD/2-caso_de_uso/5-MongoDB.ipynb\n",
      "/home/learner/notebooks/Taller_BBDD/2-caso_de_uso/4-Cassandra.ipynb\n",
      "/home/learner/notebooks/Taller_BBDD/2-caso_de_uso/1-Caso de Uso.ipynb\n"
     ]
    }
   ],
   "source": [
    "import glob\n",
    "\n",
    "for filename in glob.iglob('/home/learner/notebooks/Taller_BBDD/2-caso_de_uso/**/*.ipynb', recursive=True):\n",
    "    print(filename)"
   ]
  },
  {
   "cell_type": "code",
   "execution_count": 22,
   "metadata": {},
   "outputs": [
    {
     "name": "stderr",
     "output_type": "stream",
     "text": [
      "[NbConvertApp] Converting notebook ../Taller_BBDD/2-caso_de_uso/3-Riak.ipynb to html_embed\n",
      "[NbConvertApp] Writing 640777 bytes to html/Taller_BBDD/2-caso_de_uso/3-Riak.html\n",
      "[NbConvertApp] Converting notebook ../Taller_BBDD/2-caso_de_uso/3-Riak.ipynb to notebook\n",
      "[NbConvertApp] Writing 15294 bytes to ../Taller_BBDD/2-caso_de_uso/3-Riak.ipynb\n"
     ]
    }
   ],
   "source": [
    "%%bash\n",
    "source \"./functions.sh\"\n",
    "execute_notebook \"../Taller_BBDD/2-caso_de_uso/3-Riak.ipynb\""
   ]
  },
  {
   "cell_type": "markdown",
   "metadata": {},
   "source": [
    "# Twitter"
   ]
  },
  {
   "cell_type": "code",
   "execution_count": 23,
   "metadata": {},
   "outputs": [
    {
     "name": "stdout",
     "output_type": "stream",
     "text": [
      "/home/learner/notebooks/Taller_BBDD/twitter/2-Riak Twitter.ipynb\n",
      "/home/learner/notebooks/Taller_BBDD/twitter/4-MongoDB Twitter.ipynb\n",
      "/home/learner/notebooks/Taller_BBDD/twitter/3-Apache Cassandra Twitter.ipynb\n",
      "/home/learner/notebooks/Taller_BBDD/twitter/1-PostgreSQL Twitter.ipynb\n",
      "/home/learner/notebooks/Taller_BBDD/twitter/5-Neo4j Twitter.ipynb\n"
     ]
    }
   ],
   "source": [
    "import glob\n",
    "\n",
    "for filename in glob.iglob('/home/learner/notebooks/Taller_BBDD/twitter/**/*.ipynb', recursive=True):\n",
    "    print(filename)"
   ]
  },
  {
   "cell_type": "code",
   "execution_count": 24,
   "metadata": {},
   "outputs": [
    {
     "name": "stderr",
     "output_type": "stream",
     "text": [
      "[NbConvertApp] Converting notebook ../Taller_BBDD/twitter/2-Riak Twitter.ipynb to html_embed\n",
      "[NbConvertApp] Writing 720158 bytes to html/Taller_BBDD/twitter/2-Riak Twitter.html\n",
      "[NbConvertApp] Converting notebook ../Taller_BBDD/twitter/2-Riak Twitter.ipynb to notebook\n",
      "[NbConvertApp] Writing 8960 bytes to ../Taller_BBDD/twitter/2-Riak Twitter.ipynb\n"
     ]
    }
   ],
   "source": [
    "%%bash\n",
    "source \"./functions.sh\"\n",
    "execute_notebook \"../Taller_BBDD/twitter/2-Riak Twitter.ipynb\""
   ]
  },
  {
   "cell_type": "markdown",
   "metadata": {},
   "source": [
    "# Práctica"
   ]
  },
  {
   "cell_type": "code",
   "execution_count": 25,
   "metadata": {},
   "outputs": [
    {
     "name": "stdout",
     "output_type": "stream",
     "text": [
      "/home/learner/notebooks/Taller_BBDD_Practica/Neo4j.ipynb\n",
      "/home/learner/notebooks/Taller_BBDD_Practica/Cassandra.ipynb\n",
      "/home/learner/notebooks/Taller_BBDD_Practica/Postgres.ipynb\n",
      "/home/learner/notebooks/Taller_BBDD_Practica/Caso de Uso.ipynb\n",
      "/home/learner/notebooks/Taller_BBDD_Practica/Riak.ipynb\n",
      "/home/learner/notebooks/Taller_BBDD_Practica/MongoDB.ipynb\n"
     ]
    }
   ],
   "source": [
    "import glob\n",
    "\n",
    "for filename in glob.iglob('/home/learner/notebooks/Taller_BBDD_Practica/**/*.ipynb', recursive=True):\n",
    "    print(filename)"
   ]
  },
  {
   "cell_type": "code",
   "execution_count": 26,
   "metadata": {},
   "outputs": [
    {
     "name": "stderr",
     "output_type": "stream",
     "text": [
      "[NbConvertApp] Converting notebook ../Taller_BBDD_Practica/Riak.ipynb to html_embed\n",
      "[NbConvertApp] Writing 620508 bytes to html/Taller_BBDD_Practica/Riak.html\n",
      "[NbConvertApp] Converting notebook ../Taller_BBDD_Practica/Riak.ipynb to notebook\n",
      "[NbConvertApp] Writing 14305 bytes to ../Taller_BBDD_Practica/Riak.ipynb\n"
     ]
    }
   ],
   "source": [
    "%%bash\n",
    "source \"./functions.sh\"\n",
    "execute_notebook \"../Taller_BBDD_Practica/Riak.ipynb\""
   ]
  },
  {
   "cell_type": "markdown",
   "metadata": {},
   "source": [
    "# Stop Cluster"
   ]
  },
  {
   "cell_type": "code",
   "execution_count": 27,
   "metadata": {},
   "outputs": [
    {
     "name": "stdout",
     "output_type": "stream",
     "text": [
      "Stopping compose-riak_coordinator_1 ... \n",
      "\u001b[1BRemoving compose-riak_coordinator_1 ... mdone\u001b[0m\n",
      "\u001b[1BRemoving network compose-riak_default[32mdone\u001b[0m\n"
     ]
    }
   ],
   "source": [
    "riak down"
   ]
  },
  {
   "cell_type": "code",
   "execution_count": null,
   "metadata": {},
   "outputs": [],
   "source": []
  }
 ],
 "metadata": {
  "kernelspec": {
   "display_name": "Python 3 (ipykernel)",
   "language": "python",
   "name": "python3"
  },
  "language_info": {
   "codemirror_mode": {
    "name": "ipython",
    "version": 3
   },
   "file_extension": ".py",
   "mimetype": "text/x-python",
   "name": "python",
   "nbconvert_exporter": "python",
   "pygments_lexer": "ipython3",
   "version": "3.8.10"
  }
 },
 "nbformat": 4,
 "nbformat_minor": 4
}
