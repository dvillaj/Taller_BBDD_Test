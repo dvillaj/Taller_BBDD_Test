{
 "cells": [
  {
   "cell_type": "markdown",
   "metadata": {},
   "source": [
    "# Setup"
   ]
  },
  {
   "cell_type": "code",
   "execution_count": 4,
   "metadata": {},
   "outputs": [],
   "source": [
    "%alias postgres /usr/local/bin/docker-compose -f /opt/compose/compose-postgres/docker-compose.yml"
   ]
  },
  {
   "cell_type": "code",
   "execution_count": 9,
   "metadata": {},
   "outputs": [
    {
     "name": "stdout",
     "output_type": "stream",
     "text": [
      "CONTAINER ID   IMAGE                 COMMAND                  CREATED          STATUS          PORTS                           NAMES\n",
      "6e907816ba27   dpage/pgadmin4:4.20   \"/entrypoint.sh\"         58 seconds ago   Up 57 seconds   443/tcp, 0.0.0.0:5050->80/tcp   pgadmin_container\n",
      "d28e1783f7d8   postgres:12.2         \"docker-entrypoint.s…\"   58 seconds ago   Up 57 seconds   0.0.0.0:5432->5432/tcp          postgres_container\n"
     ]
    }
   ],
   "source": [
    "!docker ps"
   ]
  },
  {
   "cell_type": "markdown",
   "metadata": {},
   "source": [
    "# Postgres"
   ]
  },
  {
   "cell_type": "code",
   "execution_count": 14,
   "metadata": {},
   "outputs": [
    {
     "name": "stdout",
     "output_type": "stream",
     "text": [
      "Creating network \"compose-postgres_postgres\" with driver \"bridge\"\n",
      "Creating pgadmin_container ... \n",
      "Creating postgres_container ... \n",
      "\u001b[1Bting postgres_container ... \u001b[32mdone\u001b[0m\u001b[1A\u001b[2K"
     ]
    }
   ],
   "source": [
    "postgres up -d"
   ]
  },
  {
   "cell_type": "code",
   "execution_count": 13,
   "metadata": {},
   "outputs": [
    {
     "name": "stdout",
     "output_type": "stream",
     "text": [
      "Name   Command   State   Ports\n",
      "------------------------------\n"
     ]
    }
   ],
   "source": [
    "postgres ps"
   ]
  },
  {
   "cell_type": "code",
   "execution_count": 11,
   "metadata": {},
   "outputs": [
    {
     "name": "stdout",
     "output_type": "stream",
     "text": [
      "Stopping pgadmin_container  ... \n",
      "Stopping postgres_container ... \n",
      "\u001b[2BRemoving pgadmin_container  ... mdone\u001b[0m\u001b[2A\u001b[2K\n",
      "Removing postgres_container ... \n",
      "\u001b[1BRemoving network compose-postgres_postgres\n"
     ]
    }
   ],
   "source": [
    "postgres down"
   ]
  },
  {
   "cell_type": "code",
   "execution_count": 12,
   "metadata": {},
   "outputs": [
    {
     "name": "stdout",
     "output_type": "stream",
     "text": [
      "version: '3.5'\n",
      "\n",
      "services:\n",
      "  postgres:\n",
      "    container_name: postgres_container\n",
      "    image: postgres:12.2\n",
      "    environment:\n",
      "      POSTGRES_USER: ${POSTGRES_USER:-postgres}\n",
      "      POSTGRES_PASSWORD: ${POSTGRES_PASSWORD:-postgres}\n",
      "      PGDATA: /data/postgres\n",
      "    volumes:\n",
      "       - postgres:/data/postgres\n",
      "    ports:\n",
      "      - \"5432:5432\"\n",
      "    networks:\n",
      "      - postgres\n",
      "    restart: unless-stopped\n",
      "  \n",
      "  pgadmin:\n",
      "    container_name: pgadmin_container\n",
      "    image: dpage/pgadmin4:4.20\n",
      "    environment:\n",
      "      PGADMIN_DEFAULT_EMAIL: ${PGADMIN_DEFAULT_EMAIL:-pgadmin4@pgadmin.org}\n",
      "      PGADMIN_DEFAULT_PASSWORD: ${PGADMIN_DEFAULT_PASSWORD:-admin}\n",
      "    volumes:\n",
      "       - pgadmin:/root/.pgadmin\n",
      "    ports:\n",
      "      - \"${PGADMIN_PORT:-5050}:80\"\n",
      "    networks:\n",
      "      - postgres\n",
      "    restart: unless-stopped\n",
      "\n",
      "networks:\n",
      "  postgres:\n",
      "    driver: bridge\n",
      "\n",
      "volumes:\n",
      "    postgres:\n",
      "    pgadmin:\n"
     ]
    }
   ],
   "source": [
    "!cat /opt/compose/compose-postgres/docker-compose.yml"
   ]
  },
  {
   "cell_type": "code",
   "execution_count": null,
   "metadata": {},
   "outputs": [],
   "source": []
  }
 ],
 "metadata": {
  "kernelspec": {
   "display_name": "Python 3",
   "language": "python",
   "name": "python3"
  },
  "language_info": {
   "codemirror_mode": {
    "name": "ipython",
    "version": 3
   },
   "file_extension": ".py",
   "mimetype": "text/x-python",
   "name": "python",
   "nbconvert_exporter": "python",
   "pygments_lexer": "ipython3",
   "version": "3.6.12"
  }
 },
 "nbformat": 4,
 "nbformat_minor": 4
}
