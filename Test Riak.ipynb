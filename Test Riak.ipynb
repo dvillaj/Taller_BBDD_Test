{
 "cells": [
  {
   "cell_type": "markdown",
   "metadata": {},
   "source": [
    "# Setup"
   ]
  },
  {
   "cell_type": "code",
   "execution_count": 2,
   "metadata": {},
   "outputs": [],
   "source": [
    "%alias riak /usr/local/bin/docker-compose -f /opt/compose/compose-riak/docker-compose.yml\n",
    "%alias riak-admin docker exec -it compose-riak_coordinator_1 riak-admin"
   ]
  },
  {
   "cell_type": "code",
   "execution_count": 3,
   "metadata": {},
   "outputs": [
    {
     "name": "stdout",
     "output_type": "stream",
     "text": [
      "Name   Command   State   Ports\n",
      "------------------------------\n"
     ]
    }
   ],
   "source": [
    "riak  ps"
   ]
  },
  {
   "cell_type": "code",
   "execution_count": 4,
   "metadata": {},
   "outputs": [
    {
     "name": "stdout",
     "output_type": "stream",
     "text": [
      "Creating network \"compose-riak_default\" with the default driver\n",
      "Creating compose-riak_coordinator_1 ... \n",
      "\u001b[1Bting compose-riak_coordinator_1 ... \u001b[32mdone\u001b[0m"
     ]
    }
   ],
   "source": [
    "riak up -d coordinator"
   ]
  },
  {
   "cell_type": "code",
   "execution_count": 6,
   "metadata": {},
   "outputs": [
    {
     "name": "stdout",
     "output_type": "stream",
     "text": [
      "maps created\n",
      "\n",
      "WARNING: After activating maps, nodes in this cluster\n",
      "can no longer be downgraded to a version of Riak prior to 2.0\n",
      "sets created\n",
      "\n",
      "WARNING: After activating sets, nodes in this cluster\n",
      "can no longer be downgraded to a version of Riak prior to 2.0\n",
      "counters created\n",
      "\n",
      "WARNING: After activating counters, nodes in this cluster\n",
      "can no longer be downgraded to a version of Riak prior to 2.0\n"
     ]
    }
   ],
   "source": [
    "%riak-admin bucket-type create maps '{\"props\":{\"datatype\":\"map\"}}'\n",
    "%riak-admin bucket-type create sets '{\"props\":{\"datatype\":\"set\"}}'\n",
    "%riak-admin bucket-type create counters '{\"props\":{\"datatype\":\"counter\"}}'"
   ]
  },
  {
   "cell_type": "code",
   "execution_count": 7,
   "metadata": {},
   "outputs": [
    {
     "name": "stdout",
     "output_type": "stream",
     "text": [
      "maps has been activated\n",
      "\n",
      "WARNING: Nodes in this cluster can no longer be\n",
      "downgraded to a version of Riak prior to 2.0\n",
      "sets has been activated\n",
      "counters has been activated\n"
     ]
    }
   ],
   "source": [
    "%riak-admin bucket-type activate maps\n",
    "%riak-admin bucket-type activate sets\n",
    "%riak-admin bucket-type activate counters"
   ]
  },
  {
   "cell_type": "markdown",
   "metadata": {},
   "source": [
    "# Test Riak"
   ]
  },
  {
   "cell_type": "code",
   "execution_count": 1,
   "metadata": {},
   "outputs": [
    {
     "name": "stdout",
     "output_type": "stream",
     "text": [
      "/home/learner/notebooks/Taller_BBDD/riak/CRUD_Riak.ipynb\n",
      "/home/learner/notebooks/Taller_BBDD/riak/CRUD_Riak_Python.ipynb\n",
      "/home/learner/notebooks/Taller_BBDD/riak/util/Cleanup.ipynb\n",
      "/home/learner/notebooks/Taller_BBDD/riak/service/Riak Service.ipynb\n",
      "/home/learner/notebooks/Taller_BBDD/riak/twitter/Riak Twitter.ipynb\n",
      "/home/learner/notebooks/Taller_BBDD/riak/datatypes/Maps.ipynb\n",
      "/home/learner/notebooks/Taller_BBDD/riak/datatypes/Sets.ipynb\n",
      "/home/learner/notebooks/Taller_BBDD/riak/datatypes/Counters.ipynb\n",
      "/home/learner/notebooks/Taller_BBDD/riak/black/Tarjetas Black.ipynb\n"
     ]
    }
   ],
   "source": [
    "import glob\n",
    "\n",
    "for filename in glob.iglob('/home/learner/notebooks/Taller_BBDD/riak/**/*.ipynb', recursive=True):\n",
    "    print(filename)"
   ]
  },
  {
   "cell_type": "code",
   "execution_count": 8,
   "metadata": {},
   "outputs": [
    {
     "name": "stderr",
     "output_type": "stream",
     "text": [
      "[NbConvertApp] Converting notebook ../Taller_BBDD/riak/util/Cleanup.ipynb to html_embed\n",
      "[NbConvertApp] Converting notebook ../Taller_BBDD/riak/util/Cleanup.ipynb to notebook\n"
     ]
    }
   ],
   "source": [
    "%%bash\n",
    "source \"./functions.sh\"\n",
    "execute_notebook \"../Taller_BBDD/riak/util/Cleanup.ipynb\""
   ]
  },
  {
   "cell_type": "code",
   "execution_count": 9,
   "metadata": {},
   "outputs": [
    {
     "name": "stderr",
     "output_type": "stream",
     "text": [
      "[NbConvertApp] Converting notebook ../Taller_BBDD/riak/CRUD_Riak.ipynb to html_embed\n",
      "[NbConvertApp] Converting notebook ../Taller_BBDD/riak/CRUD_Riak.ipynb to notebook\n"
     ]
    }
   ],
   "source": [
    "%%bash\n",
    "source \"./functions.sh\"\n",
    "execute_notebook \"../Taller_BBDD/riak/CRUD_Riak.ipynb\""
   ]
  },
  {
   "cell_type": "code",
   "execution_count": 10,
   "metadata": {},
   "outputs": [
    {
     "name": "stderr",
     "output_type": "stream",
     "text": [
      "[NbConvertApp] Converting notebook ../Taller_BBDD/riak/CRUD_Riak_Python.ipynb to html_embed\n",
      "[NbConvertApp] Converting notebook ../Taller_BBDD/riak/CRUD_Riak_Python.ipynb to notebook\n"
     ]
    }
   ],
   "source": [
    "%%bash\n",
    "source \"./functions.sh\"\n",
    "execute_notebook \"../Taller_BBDD/riak/CRUD_Riak_Python.ipynb\""
   ]
  },
  {
   "cell_type": "code",
   "execution_count": 11,
   "metadata": {},
   "outputs": [
    {
     "name": "stderr",
     "output_type": "stream",
     "text": [
      "[NbConvertApp] Converting notebook ../Taller_BBDD/riak/datatypes/Counters.ipynb to html_embed\n",
      "[NbConvertApp] Converting notebook ../Taller_BBDD/riak/datatypes/Counters.ipynb to notebook\n"
     ]
    }
   ],
   "source": [
    "%%bash\n",
    "source \"./functions.sh\"\n",
    "execute_notebook \"../Taller_BBDD/riak/datatypes/Counters.ipynb\""
   ]
  },
  {
   "cell_type": "code",
   "execution_count": 12,
   "metadata": {},
   "outputs": [
    {
     "name": "stderr",
     "output_type": "stream",
     "text": [
      "[NbConvertApp] Converting notebook ../Taller_BBDD/riak/datatypes/Maps.ipynb to html_embed\n",
      "[NbConvertApp] Converting notebook ../Taller_BBDD/riak/datatypes/Maps.ipynb to notebook\n"
     ]
    }
   ],
   "source": [
    "%%bash\n",
    "source \"./functions.sh\"\n",
    "execute_notebook \"../Taller_BBDD/riak/datatypes/Maps.ipynb\""
   ]
  },
  {
   "cell_type": "code",
   "execution_count": 13,
   "metadata": {},
   "outputs": [
    {
     "name": "stderr",
     "output_type": "stream",
     "text": [
      "[NbConvertApp] Converting notebook ../Taller_BBDD/riak/datatypes/Sets.ipynb to html_embed\n",
      "[NbConvertApp] Converting notebook ../Taller_BBDD/riak/datatypes/Sets.ipynb to notebook\n"
     ]
    }
   ],
   "source": [
    "%%bash\n",
    "source \"./functions.sh\"\n",
    "execute_notebook \"../Taller_BBDD/riak/datatypes/Sets.ipynb\""
   ]
  },
  {
   "cell_type": "code",
   "execution_count": 14,
   "metadata": {},
   "outputs": [
    {
     "name": "stderr",
     "output_type": "stream",
     "text": [
      "[NbConvertApp] Converting notebook ../Taller_BBDD/riak/black/Tarjetas Black.ipynb to html_embed\n",
      "[NbConvertApp] Converting notebook ../Taller_BBDD/riak/black/Tarjetas Black.ipynb to notebook\n"
     ]
    }
   ],
   "source": [
    "%%bash\n",
    "source \"./functions.sh\"\n",
    "execute_notebook \"../Taller_BBDD/riak/black/Tarjetas Black.ipynb\""
   ]
  },
  {
   "cell_type": "code",
   "execution_count": 15,
   "metadata": {},
   "outputs": [
    {
     "name": "stderr",
     "output_type": "stream",
     "text": [
      "[NbConvertApp] Converting notebook ../Taller_BBDD/riak/twitter/Riak Twitter.ipynb to html_embed\n",
      "[NbConvertApp] Converting notebook ../Taller_BBDD/riak/twitter/Riak Twitter.ipynb to notebook\n"
     ]
    }
   ],
   "source": [
    "%%bash\n",
    "source \"./functions.sh\"\n",
    "execute_notebook \"../Taller_BBDD/riak/twitter/Riak Twitter.ipynb\""
   ]
  },
  {
   "cell_type": "markdown",
   "metadata": {},
   "source": [
    "# Stop Cluster"
   ]
  },
  {
   "cell_type": "code",
   "execution_count": 16,
   "metadata": {},
   "outputs": [
    {
     "name": "stdout",
     "output_type": "stream",
     "text": [
      "Stopping compose-riak_coordinator_1 ... \n",
      "\u001b[1BRemoving compose-riak_coordinator_1 ... mdone\u001b[0m\n",
      "\u001b[1BRemoving network compose-riak_default[32mdone\u001b[0m\n"
     ]
    }
   ],
   "source": [
    "riak down"
   ]
  },
  {
   "cell_type": "code",
   "execution_count": null,
   "metadata": {},
   "outputs": [],
   "source": []
  }
 ],
 "metadata": {
  "kernelspec": {
   "display_name": "Python 3",
   "language": "python",
   "name": "python3"
  },
  "language_info": {
   "codemirror_mode": {
    "name": "ipython",
    "version": 3
   },
   "file_extension": ".py",
   "mimetype": "text/x-python",
   "name": "python",
   "nbconvert_exporter": "python",
   "pygments_lexer": "ipython3",
   "version": "3.6.12"
  }
 },
 "nbformat": 4,
 "nbformat_minor": 4
}
