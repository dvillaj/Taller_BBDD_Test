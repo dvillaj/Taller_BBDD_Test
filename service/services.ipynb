{
 "cells": [
  {
   "cell_type": "markdown",
   "metadata": {},
   "source": [
    "# Setup"
   ]
  },
  {
   "cell_type": "code",
   "execution_count": 3,
   "metadata": {},
   "outputs": [],
   "source": [
    "%alias postgres /usr/local/bin/docker-compose -f /opt/compose/compose-postgres/docker-compose.yml\n",
    "\n",
    "%alias riak /usr/local/bin/docker-compose -f /opt/compose/compose-riak/docker-compose.yml\n",
    "%alias riak-admin docker exec -it compose-riak_coordinator_1 riak-admin\n",
    "\n",
    "%alias cassandra /usr/local/bin/docker-compose -f /opt/compose/compose-cassandra/docker-compose.yml\n",
    "\n",
    "%alias mongo docker-compose -f /opt/compose/compose-mongodb/docker-compose.yml\n",
    "\n",
    "%alias neo4j /usr/local/bin/docker-compose -f /opt/compose/compose-neo4j/docker-compose.yml"
   ]
  },
  {
   "cell_type": "code",
   "execution_count": 4,
   "metadata": {},
   "outputs": [
    {
     "name": "stdout",
     "output_type": "stream",
     "text": [
      "CONTAINER ID   IMAGE     COMMAND   CREATED   STATUS    PORTS     NAMES\n"
     ]
    }
   ],
   "source": [
    "!docker ps -a"
   ]
  },
  {
   "cell_type": "markdown",
   "metadata": {},
   "source": [
    "# Postgres"
   ]
  },
  {
   "cell_type": "code",
   "execution_count": 5,
   "metadata": {},
   "outputs": [
    {
     "name": "stdout",
     "output_type": "stream",
     "text": [
      "Name   Command   State   Ports\n",
      "------------------------------\n"
     ]
    }
   ],
   "source": [
    "postgres ps"
   ]
  },
  {
   "cell_type": "code",
   "execution_count": 22,
   "metadata": {},
   "outputs": [
    {
     "name": "stdout",
     "output_type": "stream",
     "text": [
      "Creating network \"compose-postgres_postgres\" with driver \"bridge\"\n",
      "Creating postgres_container ... \n",
      "Creating pgadmin_container  ... \n",
      "\u001b[1Bting pgadmin_container  ... \u001b[32mdone\u001b[0m"
     ]
    }
   ],
   "source": [
    "postgres up -d"
   ]
  },
  {
   "cell_type": "code",
   "execution_count": 17,
   "metadata": {},
   "outputs": [
    {
     "name": "stdout",
     "output_type": "stream",
     "text": [
      "Stopping pgadmin_container  ... \n",
      "Stopping postgres_container ... \n",
      "\u001b[2BRemoving pgadmin_container  ... mdone\u001b[0m\u001b[2A\u001b[2K\n",
      "Removing postgres_container ... \n",
      "\u001b[2BRemoving network compose-postgres_postgres\n"
     ]
    }
   ],
   "source": [
    "postgres down"
   ]
  },
  {
   "cell_type": "markdown",
   "metadata": {},
   "source": [
    "# Riak"
   ]
  },
  {
   "cell_type": "code",
   "execution_count": 7,
   "metadata": {},
   "outputs": [
    {
     "name": "stdout",
     "output_type": "stream",
     "text": [
      "Name   Command   State   Ports\n",
      "------------------------------\n"
     ]
    }
   ],
   "source": [
    "riak  ps"
   ]
  },
  {
   "cell_type": "code",
   "execution_count": 8,
   "metadata": {},
   "outputs": [
    {
     "name": "stdout",
     "output_type": "stream",
     "text": [
      "Creating network \"compose-riak_default\" with the default driver\n",
      "Creating volume \"compose-riak_schemas\" with default driver\n",
      "Creating compose-riak_coordinator_1 ... \n",
      "\u001b[1Bting compose-riak_coordinator_1 ... \u001b[32mdone\u001b[0m"
     ]
    }
   ],
   "source": [
    "riak up -d coordinator"
   ]
  },
  {
   "cell_type": "code",
   "execution_count": 9,
   "metadata": {},
   "outputs": [
    {
     "name": "stdout",
     "output_type": "stream",
     "text": [
      "maps created\n",
      "\n",
      "WARNING: After activating maps, nodes in this cluster\n",
      "can no longer be downgraded to a version of Riak prior to 2.0\n",
      "sets created\n",
      "\n",
      "WARNING: After activating sets, nodes in this cluster\n",
      "can no longer be downgraded to a version of Riak prior to 2.0\n",
      "counters created\n",
      "\n",
      "WARNING: After activating counters, nodes in this cluster\n",
      "can no longer be downgraded to a version of Riak prior to 2.0\n"
     ]
    }
   ],
   "source": [
    "%riak-admin bucket-type create maps '{\"props\":{\"datatype\":\"map\"}}'\n",
    "%riak-admin bucket-type create sets '{\"props\":{\"datatype\":\"set\"}}'\n",
    "%riak-admin bucket-type create counters '{\"props\":{\"datatype\":\"counter\"}}'"
   ]
  },
  {
   "cell_type": "code",
   "execution_count": 10,
   "metadata": {},
   "outputs": [
    {
     "name": "stdout",
     "output_type": "stream",
     "text": [
      "maps has been activated\n",
      "\n",
      "WARNING: Nodes in this cluster can no longer be\n",
      "downgraded to a version of Riak prior to 2.0\n",
      "sets has been activated\n",
      "counters has been activated\n"
     ]
    }
   ],
   "source": [
    "%riak-admin bucket-type activate maps\n",
    "%riak-admin bucket-type activate sets\n",
    "%riak-admin bucket-type activate counters"
   ]
  },
  {
   "cell_type": "code",
   "execution_count": 18,
   "metadata": {},
   "outputs": [
    {
     "name": "stdout",
     "output_type": "stream",
     "text": [
      "Stopping compose-riak_coordinator_1 ... \n",
      "\u001b[1BRemoving compose-riak_coordinator_1 ... mdone\u001b[0m\n",
      "\u001b[1BRemoving network compose-riak_default[32mdone\u001b[0m\n"
     ]
    }
   ],
   "source": [
    "riak down"
   ]
  },
  {
   "cell_type": "markdown",
   "metadata": {},
   "source": [
    "# Cassandra"
   ]
  },
  {
   "cell_type": "code",
   "execution_count": 11,
   "metadata": {},
   "outputs": [
    {
     "name": "stdout",
     "output_type": "stream",
     "text": [
      "Name   Command   State   Ports\n",
      "------------------------------\n"
     ]
    }
   ],
   "source": [
    "cassandra ps"
   ]
  },
  {
   "cell_type": "code",
   "execution_count": 12,
   "metadata": {},
   "outputs": [
    {
     "name": "stdout",
     "output_type": "stream",
     "text": [
      "Creating network \"compose-cassandra_default\" with the default driver\n",
      "Creating volume \"compose-cassandra_data_volume\" with default driver\n",
      "Creating compose-cassandra_cassandra_1 ... \n",
      "\u001b[1Bting compose-cassandra_cassandra_1 ... \u001b[32mdone\u001b[0m"
     ]
    }
   ],
   "source": [
    "cassandra up -d"
   ]
  },
  {
   "cell_type": "code",
   "execution_count": 19,
   "metadata": {},
   "outputs": [
    {
     "name": "stdout",
     "output_type": "stream",
     "text": [
      "Stopping compose-cassandra_cassandra_1 ... \n",
      "\u001b[1BRemoving compose-cassandra_cassandra_1 ... mdone\u001b[0m\n",
      "\u001b[1BRemoving network compose-cassandra_default2mdone\u001b[0m\n"
     ]
    }
   ],
   "source": [
    "cassandra down"
   ]
  },
  {
   "cell_type": "markdown",
   "metadata": {},
   "source": [
    "# MongoDB"
   ]
  },
  {
   "cell_type": "code",
   "execution_count": 16,
   "metadata": {},
   "outputs": [
    {
     "name": "stdout",
     "output_type": "stream",
     "text": [
      "      Name                  Command             State            Ports          \n",
      "--------------------------------------------------------------------------------\n",
      "mongo_container    docker-entrypoint.sh         Up      0.0.0.0:27017->27017/tcp\n",
      "                   mongod                                                       \n",
      "monuku_container   /app/docker-run.sh           Up      0.0.0.0:3100->3100/tcp  \n"
     ]
    }
   ],
   "source": [
    "mongo ps"
   ]
  },
  {
   "cell_type": "code",
   "execution_count": 13,
   "metadata": {},
   "outputs": [
    {
     "name": "stdout",
     "output_type": "stream",
     "text": [
      "Creating network \"compose-mongodb_mongodb\" with driver \"bridge\"\n",
      "Creating volume \"compose-mongodb_mongodb_data_container\" with default driver\n",
      "Creating mongo_container ... \n",
      "\u001b[1BCreating monuku_container ... done\u001b[0m\n",
      "\u001b[1Bting monuku_container ... \u001b[32mdone\u001b[0m"
     ]
    }
   ],
   "source": [
    "mongo up -d"
   ]
  },
  {
   "cell_type": "code",
   "execution_count": 20,
   "metadata": {},
   "outputs": [
    {
     "name": "stdout",
     "output_type": "stream",
     "text": [
      "Stopping monuku_container ... \n",
      "Stopping mongo_container  ... \n",
      "\u001b[1BRemoving monuku_container ... mdone\u001b[0m\u001b[1A\u001b[2K\n",
      "Removing mongo_container  ... \n",
      "\u001b[1BRemoving network compose-mongodb_mongodb\n"
     ]
    }
   ],
   "source": [
    "mongo down"
   ]
  },
  {
   "cell_type": "markdown",
   "metadata": {},
   "source": [
    "# Neo4j"
   ]
  },
  {
   "cell_type": "code",
   "execution_count": 14,
   "metadata": {},
   "outputs": [
    {
     "name": "stdout",
     "output_type": "stream",
     "text": [
      "Name   Command   State   Ports\n",
      "------------------------------\n"
     ]
    }
   ],
   "source": [
    "neo4j ps"
   ]
  },
  {
   "cell_type": "code",
   "execution_count": 15,
   "metadata": {},
   "outputs": [
    {
     "name": "stdout",
     "output_type": "stream",
     "text": [
      "Creating network \"compose-neo4j_neo4j\" with driver \"bridge\"\n",
      "Creating volume \"compose-neo4j_data_volume\" with default driver\n",
      "Creating volume \"compose-neo4j_import_volume\" with default driver\n",
      "Creating volume \"compose-neo4j_plugins_volume\" with default driver\n",
      "Creating neo4j_container ... \n",
      "\u001b[1Bting neo4j_container ... \u001b[32mdone\u001b[0m"
     ]
    }
   ],
   "source": [
    "neo4j up -d"
   ]
  },
  {
   "cell_type": "code",
   "execution_count": 21,
   "metadata": {},
   "outputs": [
    {
     "name": "stdout",
     "output_type": "stream",
     "text": [
      "Stopping neo4j_container ... \n",
      "\u001b[1BRemoving neo4j_container ... mdone\u001b[0m\n",
      "\u001b[1BRemoving network compose-neo4j_neo4j0m\n"
     ]
    }
   ],
   "source": [
    "neo4j down"
   ]
  },
  {
   "cell_type": "markdown",
   "metadata": {},
   "source": [
    "# REST\n"
   ]
  },
  {
   "cell_type": "code",
   "execution_count": null,
   "metadata": {},
   "outputs": [
    {
     "name": "stdout",
     "output_type": "stream",
     "text": [
      "Bottle v0.12.19 server starting up (using WSGIRefServer())...\n",
      "Listening on http://0.0.0.0:8082/\n",
      "Hit Ctrl-C to quit.\n",
      "\n",
      "127.0.0.1 - - [24/Dec/2020 05:16:11] \"GET / HTTP/1.1\" 200 12\n",
      "127.0.0.1 - - [24/Dec/2020 05:16:11] \"GET /recipes/ HTTP/1.1\" 200 4\n",
      "127.0.0.1 - - [24/Dec/2020 05:16:12] \"GET /recipes/rectangle HTTP/1.1\" 200 20\n",
      "127.0.0.1 - - [24/Dec/2020 05:16:12] \"PUT /recipes/rectangle HTTP/1.1\" 200 21\n",
      "127.0.0.1 - - [24/Dec/2020 05:16:12] \"DELETE /recipes/rectangle HTTP/1.1\" 200 23\n",
      "127.0.0.1 - - [24/Dec/2020 05:16:12] \"POST /recipes/rectangle HTTP/1.1\" 200 23\n"
     ]
    }
   ],
   "source": [
    "!python /home/learner/notebooks/Taller_BBDD/REST/server/server_rest.py"
   ]
  },
  {
   "cell_type": "code",
   "execution_count": null,
   "metadata": {},
   "outputs": [],
   "source": []
  }
 ],
 "metadata": {
  "kernelspec": {
   "display_name": "Python 3",
   "language": "python",
   "name": "python3"
  },
  "language_info": {
   "codemirror_mode": {
    "name": "ipython",
    "version": 3
   },
   "file_extension": ".py",
   "mimetype": "text/x-python",
   "name": "python",
   "nbconvert_exporter": "python",
   "pygments_lexer": "ipython3",
   "version": "3.6.12"
  }
 },
 "nbformat": 4,
 "nbformat_minor": 4
}
