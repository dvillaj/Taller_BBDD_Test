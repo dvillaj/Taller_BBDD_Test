{
 "cells": [
  {
   "cell_type": "markdown",
   "metadata": {},
   "source": [
    "# Setup"
   ]
  },
  {
   "cell_type": "code",
   "execution_count": 3,
   "metadata": {},
   "outputs": [],
   "source": [
    "%alias mongo docker-compose -f /opt/compose/compose-mongodb/docker-compose.yml"
   ]
  },
  {
   "cell_type": "code",
   "execution_count": 4,
   "metadata": {},
   "outputs": [
    {
     "name": "stdout",
     "output_type": "stream",
     "text": [
      "Name   Command   State   Ports\n",
      "------------------------------\n"
     ]
    }
   ],
   "source": [
    "mongo ps"
   ]
  },
  {
   "cell_type": "code",
   "execution_count": 5,
   "metadata": {},
   "outputs": [
    {
     "name": "stdout",
     "output_type": "stream",
     "text": [
      "Creating network \"compose-mongodb_mongodb\" with driver \"bridge\"\n",
      "Creating volume \"compose-mongodb_mongodb_data_container\" with default driver\n",
      "Creating mongo_container ... \n",
      "\u001b[1BCreating monuku_container ... done\u001b[0m\n",
      "\u001b[1Bting monuku_container ... \u001b[32mdone\u001b[0m"
     ]
    }
   ],
   "source": [
    "mongo up -d"
   ]
  },
  {
   "cell_type": "markdown",
   "metadata": {},
   "source": [
    "# Tests MongoDB"
   ]
  },
  {
   "cell_type": "code",
   "execution_count": 2,
   "metadata": {},
   "outputs": [
    {
     "name": "stdout",
     "output_type": "stream",
     "text": [
      "/home/learner/notebooks/Taller_BBDD/mongodb/CRUD_MongoDB.ipynb\n",
      "/home/learner/notebooks/Taller_BBDD/mongodb/service/Mongo Service.ipynb\n",
      "/home/learner/notebooks/Taller_BBDD/mongodb/twitter/MongoDB - Twitter.ipynb\n",
      "/home/learner/notebooks/Taller_BBDD/mongodb/black/Tarjetas Black.ipynb\n"
     ]
    }
   ],
   "source": [
    "import glob\n",
    "\n",
    "for filename in glob.iglob('/home/learner/notebooks/Taller_BBDD/mongodb/**/*.ipynb', recursive=True):\n",
    "    print(filename)"
   ]
  },
  {
   "cell_type": "code",
   "execution_count": 6,
   "metadata": {},
   "outputs": [
    {
     "name": "stderr",
     "output_type": "stream",
     "text": [
      "[NbConvertApp] Converting notebook ../Taller_BBDD/mongodb/CRUD_MongoDB.ipynb to html_embed\n",
      "[NbConvertApp] Converting notebook ../Taller_BBDD/mongodb/CRUD_MongoDB.ipynb to notebook\n"
     ]
    }
   ],
   "source": [
    "%%bash\n",
    "source \"./functions.sh\"\n",
    "execute_notebook \"../Taller_BBDD/mongodb/CRUD_MongoDB.ipynb\""
   ]
  },
  {
   "cell_type": "code",
   "execution_count": 12,
   "metadata": {},
   "outputs": [
    {
     "name": "stderr",
     "output_type": "stream",
     "text": [
      "[NbConvertApp] Converting notebook ../Taller_BBDD/mongodb/twitter/MongoDB - Twitter.ipynb to html_embed\n",
      "[NbConvertApp] Converting notebook ../Taller_BBDD/mongodb/twitter/MongoDB - Twitter.ipynb to notebook\n"
     ]
    }
   ],
   "source": [
    "%%bash\n",
    "source \"./functions.sh\"\n",
    "execute_notebook \"../Taller_BBDD/mongodb/twitter/MongoDB - Twitter.ipynb\""
   ]
  },
  {
   "cell_type": "code",
   "execution_count": 14,
   "metadata": {},
   "outputs": [
    {
     "name": "stderr",
     "output_type": "stream",
     "text": [
      "[NbConvertApp] Converting notebook ../Taller_BBDD/mongodb/black/Tarjetas Black.ipynb to html_embed\n",
      "[NbConvertApp] Converting notebook ../Taller_BBDD/mongodb/black/Tarjetas Black.ipynb to notebook\n"
     ]
    }
   ],
   "source": [
    "%%bash\n",
    "source \"./functions.sh\"\n",
    "execute_notebook \"../Taller_BBDD/mongodb/black/Tarjetas Black.ipynb\""
   ]
  },
  {
   "cell_type": "markdown",
   "metadata": {},
   "source": [
    "# Práctica"
   ]
  },
  {
   "cell_type": "code",
   "execution_count": 1,
   "metadata": {},
   "outputs": [
    {
     "name": "stdout",
     "output_type": "stream",
     "text": [
      "/home/learner/notebooks/Taller_BBDD_Practica/Caso de Uso.ipynb\n",
      "/home/learner/notebooks/Taller_BBDD_Practica/Postgres.ipynb\n",
      "/home/learner/notebooks/Taller_BBDD_Practica/Neo4j - Completo.ipynb\n",
      "/home/learner/notebooks/Taller_BBDD_Practica/Cassandra.ipynb\n",
      "/home/learner/notebooks/Taller_BBDD_Practica/Riak - Completo.ipynb\n",
      "/home/learner/notebooks/Taller_BBDD_Practica/MongoDB - Completo..ipynb\n",
      "/home/learner/notebooks/Taller_BBDD_Practica/Riak.ipynb\n",
      "/home/learner/notebooks/Taller_BBDD_Practica/Cassandra - Completo.ipynb\n",
      "/home/learner/notebooks/Taller_BBDD_Practica/MongoDB.ipynb\n",
      "/home/learner/notebooks/Taller_BBDD_Practica/Neo4j.ipynb\n"
     ]
    }
   ],
   "source": [
    "import glob\n",
    "\n",
    "for filename in glob.iglob('/home/learner/notebooks/Taller_BBDD_Practica/**/*.ipynb', recursive=True):\n",
    "    print(filename)"
   ]
  },
  {
   "cell_type": "code",
   "execution_count": 6,
   "metadata": {},
   "outputs": [
    {
     "name": "stderr",
     "output_type": "stream",
     "text": [
      "[NbConvertApp] Converting notebook ../Taller_BBDD_Practica/MongoDB - Completo..ipynb to html_embed\n",
      "[NbConvertApp] Converting notebook ../Taller_BBDD_Practica/MongoDB - Completo..ipynb to notebook\n"
     ]
    }
   ],
   "source": [
    "%%bash\n",
    "source \"./functions.sh\"\n",
    "execute_notebook \"../Taller_BBDD_Practica/MongoDB - Completo..ipynb\""
   ]
  },
  {
   "cell_type": "markdown",
   "metadata": {},
   "source": [
    "# Stop Service"
   ]
  },
  {
   "cell_type": "code",
   "execution_count": 7,
   "metadata": {},
   "outputs": [
    {
     "name": "stdout",
     "output_type": "stream",
     "text": [
      "Stopping monuku_container ... \n",
      "Stopping mongo_container  ... \n",
      "\u001b[1BRemoving monuku_container ... mdone\u001b[0m\u001b[1A\u001b[2K\n",
      "Removing mongo_container  ... \n",
      "\u001b[1BRemoving network compose-mongodb_mongodb\n"
     ]
    }
   ],
   "source": [
    "mongo down"
   ]
  },
  {
   "cell_type": "code",
   "execution_count": null,
   "metadata": {},
   "outputs": [],
   "source": []
  }
 ],
 "metadata": {
  "kernelspec": {
   "display_name": "Python 3",
   "language": "python",
   "name": "python3"
  },
  "language_info": {
   "codemirror_mode": {
    "name": "ipython",
    "version": 3
   },
   "file_extension": ".py",
   "mimetype": "text/x-python",
   "name": "python",
   "nbconvert_exporter": "python",
   "pygments_lexer": "ipython3",
   "version": "3.6.12"
  }
 },
 "nbformat": 4,
 "nbformat_minor": 4
}
