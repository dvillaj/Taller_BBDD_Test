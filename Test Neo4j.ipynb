{
 "cells": [
  {
   "cell_type": "markdown",
   "metadata": {},
   "source": [
    "# Setup"
   ]
  },
  {
   "cell_type": "code",
   "execution_count": 1,
   "metadata": {},
   "outputs": [],
   "source": [
    "%alias neo4j /usr/local/bin/docker-compose -f /opt/compose/compose-neo4j/docker-compose.yml"
   ]
  },
  {
   "cell_type": "code",
   "execution_count": 2,
   "metadata": {},
   "outputs": [
    {
     "name": "stdout",
     "output_type": "stream",
     "text": [
      "CONTAINER ID   IMAGE     COMMAND   CREATED   STATUS    PORTS     NAMES\n"
     ]
    }
   ],
   "source": [
    "!docker ps"
   ]
  },
  {
   "cell_type": "code",
   "execution_count": 3,
   "metadata": {},
   "outputs": [
    {
     "name": "stdout",
     "output_type": "stream",
     "text": [
      "Creating network \"compose-neo4j_neo4j\" with driver \"bridge\"\n",
      "Creating neo4j_container ... \n",
      "\u001b[1Bting neo4j_container ... \u001b[32mdone\u001b[0m"
     ]
    }
   ],
   "source": [
    "neo4j up -d"
   ]
  },
  {
   "cell_type": "code",
   "execution_count": 4,
   "metadata": {},
   "outputs": [
    {
     "name": "stdout",
     "output_type": "stream",
     "text": [
      "     Name                  Command             State             Ports          \n",
      "--------------------------------------------------------------------------------\n",
      "neo4j_container   /sbin/tini -g -- /docker-e   Up      7473/tcp,                \n",
      "                  ...                                  0.0.0.0:7474->7474/tcp,  \n",
      "                                                       0.0.0.0:7687->7687/tcp   \n"
     ]
    }
   ],
   "source": [
    "neo4j ps"
   ]
  },
  {
   "cell_type": "code",
   "execution_count": 5,
   "metadata": {},
   "outputs": [
    {
     "name": "stdout",
     "output_type": "stream",
     "text": [
      "Attaching to neo4j_container\n",
      "\u001b[36mneo4j_container |\u001b[0m Active database: graph.db\n",
      "\u001b[36mneo4j_container |\u001b[0m Directories in use:\n",
      "\u001b[36mneo4j_container |\u001b[0m   home:         /var/lib/neo4j\n",
      "\u001b[36mneo4j_container |\u001b[0m   config:       /var/lib/neo4j/conf\n",
      "\u001b[36mneo4j_container |\u001b[0m   logs:         /logs\n",
      "\u001b[36mneo4j_container |\u001b[0m   plugins:      /plugins\n",
      "\u001b[36mneo4j_container |\u001b[0m   import:       /var/lib/neo4j/import\n",
      "\u001b[36mneo4j_container |\u001b[0m   data:         /var/lib/neo4j/data\n",
      "\u001b[36mneo4j_container |\u001b[0m   certificates: /var/lib/neo4j/certificates\n",
      "\u001b[36mneo4j_container |\u001b[0m   run:          /var/lib/neo4j/run\n",
      "\u001b[36mneo4j_container |\u001b[0m Starting Neo4j.\n"
     ]
    }
   ],
   "source": [
    "neo4j logs"
   ]
  },
  {
   "cell_type": "code",
   "execution_count": 9,
   "metadata": {},
   "outputs": [],
   "source": [
    "!sleep 5"
   ]
  },
  {
   "cell_type": "code",
   "execution_count": 8,
   "metadata": {},
   "outputs": [
    {
     "name": "stdout",
     "output_type": "stream",
     "text": [
      "\u001b[36mneo4j_container |\u001b[0m 2020-12-25 08:06:18.424+0000 INFO  Remote interface available at http://localhost:7474/\n"
     ]
    }
   ],
   "source": [
    "neo4j logs | grep \"Remote interface available at http://localhost:7474/\""
   ]
  },
  {
   "cell_type": "markdown",
   "metadata": {},
   "source": [
    "# Tests Postgres"
   ]
  },
  {
   "cell_type": "code",
   "execution_count": 22,
   "metadata": {},
   "outputs": [
    {
     "name": "stdout",
     "output_type": "stream",
     "text": [
      "/home/learner/notebooks/Taller_BBDD/neo4j/CRUD_Neo4j.ipynb\n",
      "/home/learner/notebooks/Taller_BBDD/neo4j/Neo4j con Python.ipynb\n",
      "/home/learner/notebooks/Taller_BBDD/neo4j/service/Neo4j service.ipynb\n",
      "/home/learner/notebooks/Taller_BBDD/neo4j/twitter/Neo4j Twitter.ipynb\n",
      "/home/learner/notebooks/Taller_BBDD/neo4j/black/Tarjetas Black.ipynb\n"
     ]
    }
   ],
   "source": [
    "import glob\n",
    "\n",
    "for filename in glob.iglob('/home/learner/notebooks/Taller_BBDD/neo4j/**/*.ipynb', recursive=True):\n",
    "    print(filename)"
   ]
  },
  {
   "cell_type": "code",
   "execution_count": 23,
   "metadata": {},
   "outputs": [
    {
     "name": "stderr",
     "output_type": "stream",
     "text": [
      "[NbConvertApp] Converting notebook ../Taller_BBDD/neo4j/CRUD_Neo4j.ipynb to html_embed\n",
      "[NbConvertApp] Converting notebook ../Taller_BBDD/neo4j/CRUD_Neo4j.ipynb to notebook\n"
     ]
    }
   ],
   "source": [
    "%%bash\n",
    "source \"./functions.sh\"\n",
    "execute_notebook \"../Taller_BBDD/neo4j/CRUD_Neo4j.ipynb\""
   ]
  },
  {
   "cell_type": "code",
   "execution_count": 24,
   "metadata": {},
   "outputs": [
    {
     "name": "stderr",
     "output_type": "stream",
     "text": [
      "[NbConvertApp] Converting notebook ../Taller_BBDD/neo4j/Neo4j con Python.ipynb to html_embed\n",
      "[NbConvertApp] Converting notebook ../Taller_BBDD/neo4j/Neo4j con Python.ipynb to notebook\n"
     ]
    }
   ],
   "source": [
    "%%bash\n",
    "source \"./functions.sh\"\n",
    "execute_notebook \"../Taller_BBDD/neo4j/Neo4j con Python.ipynb\""
   ]
  },
  {
   "cell_type": "code",
   "execution_count": 25,
   "metadata": {},
   "outputs": [
    {
     "name": "stderr",
     "output_type": "stream",
     "text": [
      "[NbConvertApp] Converting notebook ../Taller_BBDD/neo4j/black/Tarjetas Black.ipynb to html_embed\n",
      "[NbConvertApp] Converting notebook ../Taller_BBDD/neo4j/black/Tarjetas Black.ipynb to notebook\n"
     ]
    }
   ],
   "source": [
    "%%bash\n",
    "source \"./functions.sh\"\n",
    "execute_notebook \"../Taller_BBDD/neo4j/black/Tarjetas Black.ipynb\""
   ]
  },
  {
   "cell_type": "code",
   "execution_count": 26,
   "metadata": {},
   "outputs": [
    {
     "name": "stderr",
     "output_type": "stream",
     "text": [
      "[NbConvertApp] Converting notebook ../Taller_BBDD/neo4j/twitter/Neo4j Twitter.ipynb to html_embed\n",
      "[NbConvertApp] Converting notebook ../Taller_BBDD/neo4j/twitter/Neo4j Twitter.ipynb to notebook\n"
     ]
    }
   ],
   "source": [
    "%%bash\n",
    "source \"./functions.sh\"\n",
    "execute_notebook \"../Taller_BBDD/neo4j/twitter/Neo4j Twitter.ipynb\""
   ]
  },
  {
   "cell_type": "markdown",
   "metadata": {},
   "source": [
    "# Pŕactica"
   ]
  },
  {
   "cell_type": "code",
   "execution_count": 10,
   "metadata": {},
   "outputs": [
    {
     "name": "stdout",
     "output_type": "stream",
     "text": [
      "/home/learner/notebooks/Taller_BBDD_Practica/Caso de Uso.ipynb\n",
      "/home/learner/notebooks/Taller_BBDD_Practica/Postgres.ipynb\n",
      "/home/learner/notebooks/Taller_BBDD_Practica/Cassandra.ipynb\n",
      "/home/learner/notebooks/Taller_BBDD_Practica/Riak.ipynb\n",
      "/home/learner/notebooks/Taller_BBDD_Practica/MongoDB.ipynb\n",
      "/home/learner/notebooks/Taller_BBDD_Practica/Neo4j.ipynb\n"
     ]
    }
   ],
   "source": [
    "import glob\n",
    "\n",
    "for filename in glob.iglob('/home/learner/notebooks/Taller_BBDD_Practica/**/*.ipynb', recursive=True):\n",
    "    print(filename)"
   ]
  },
  {
   "cell_type": "code",
   "execution_count": 11,
   "metadata": {},
   "outputs": [
    {
     "name": "stderr",
     "output_type": "stream",
     "text": [
      "[NbConvertApp] Converting notebook ../Taller_BBDD_Practica/Neo4j.ipynb to html_embed\n",
      "[NbConvertApp] Converting notebook ../Taller_BBDD_Practica/Neo4j.ipynb to notebook\n"
     ]
    }
   ],
   "source": [
    "%%bash\n",
    "source \"./functions.sh\"\n",
    "execute_notebook \"../Taller_BBDD_Practica/Neo4j.ipynb\""
   ]
  },
  {
   "cell_type": "markdown",
   "metadata": {},
   "source": [
    "## Copiado de ficheros"
   ]
  },
  {
   "cell_type": "raw",
   "metadata": {},
   "source": [
    "%%bash\n",
    "\n",
    "HOME_DIRECTORY=../Taller_BBDD/practica\n",
    "\n",
    "rm -rf $HOME_DIRECTORY\n",
    "mkdir -p $HOME_DIRECTORY\n",
    "\n",
    "pushd . > /tmp/null\n",
    "cd ../Taller_BBDD_Practica\n",
    "cp -r * $HOME_DIRECTORY\n",
    "\n",
    "popd > /tmp/null\n",
    "echo \"Ok ;-)\"\n"
   ]
  },
  {
   "cell_type": "markdown",
   "metadata": {},
   "source": [
    "# Stop Service"
   ]
  },
  {
   "cell_type": "code",
   "execution_count": 41,
   "metadata": {},
   "outputs": [
    {
     "name": "stdout",
     "output_type": "stream",
     "text": [
      "Stopping neo4j_container ... \n",
      "\u001b[1BRemoving neo4j_container ... mdone\u001b[0m\n",
      "\u001b[1BRemoving network compose-neo4j_neo4j0m\n"
     ]
    }
   ],
   "source": [
    "neo4j down"
   ]
  }
 ],
 "metadata": {
  "kernelspec": {
   "display_name": "Python 3",
   "language": "python",
   "name": "python3"
  },
  "language_info": {
   "codemirror_mode": {
    "name": "ipython",
    "version": 3
   },
   "file_extension": ".py",
   "mimetype": "text/x-python",
   "name": "python",
   "nbconvert_exporter": "python",
   "pygments_lexer": "ipython3",
   "version": "3.6.12"
  }
 },
 "nbformat": 4,
 "nbformat_minor": 4
}
