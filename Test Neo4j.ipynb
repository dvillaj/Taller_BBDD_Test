{
 "cells": [
  {
   "cell_type": "markdown",
   "metadata": {},
   "source": [
    "# Setup"
   ]
  },
  {
   "cell_type": "code",
   "execution_count": 3,
   "metadata": {},
   "outputs": [],
   "source": [
    "%alias neo4j /usr/local/bin/docker-compose -f /opt/compose/compose-neo4j/docker-compose.yml"
   ]
  },
  {
   "cell_type": "code",
   "execution_count": 4,
   "metadata": {},
   "outputs": [
    {
     "name": "stdout",
     "output_type": "stream",
     "text": [
      "Name   Command   State   Ports\n",
      "------------------------------\n"
     ]
    }
   ],
   "source": [
    "neo4j ps"
   ]
  },
  {
   "cell_type": "code",
   "execution_count": 5,
   "metadata": {},
   "outputs": [
    {
     "name": "stdout",
     "output_type": "stream",
     "text": [
      "Creating network \"compose-mongodb_mongodb\" with driver \"bridge\"\n",
      "Creating mongo_container ... \n",
      "\u001b[1BCreating monuku_container ... done\u001b[0m\n",
      "\u001b[1Bting monuku_container ... \u001b[32mdone\u001b[0m"
     ]
    }
   ],
   "source": [
    "neo4j up -d"
   ]
  },
  {
   "cell_type": "markdown",
   "metadata": {},
   "source": [
    "# Tests Postgres"
   ]
  },
  {
   "cell_type": "code",
   "execution_count": 1,
   "metadata": {},
   "outputs": [
    {
     "name": "stdout",
     "output_type": "stream",
     "text": [
      "/home/learner/notebooks/Taller_BBDD/neo4j/CRUD_Neo4j.ipynb\n",
      "/home/learner/notebooks/Taller_BBDD/neo4j/Neo4j con Python.ipynb\n",
      "/home/learner/notebooks/Taller_BBDD/neo4j/util/Reset.ipynb\n",
      "/home/learner/notebooks/Taller_BBDD/neo4j/service/Neo4j service.ipynb\n",
      "/home/learner/notebooks/Taller_BBDD/neo4j/twitter/Neo4j Twitter.ipynb\n",
      "/home/learner/notebooks/Taller_BBDD/neo4j/black/Tarjetas Black.ipynb\n"
     ]
    }
   ],
   "source": [
    "import glob\n",
    "\n",
    "for filename in glob.iglob('/home/learner/notebooks/Taller_BBDD/neo4j/**/*.ipynb', recursive=True):\n",
    "    print(filename)"
   ]
  },
  {
   "cell_type": "code",
   "execution_count": 6,
   "metadata": {},
   "outputs": [
    {
     "name": "stderr",
     "output_type": "stream",
     "text": [
      "[NbConvertApp] Converting notebook ../Taller_BBDD/mongodb/CRUD_MongoDB.ipynb to html_embed\n",
      "[NbConvertApp] Converting notebook ../Taller_BBDD/mongodb/CRUD_MongoDB.ipynb to notebook\n"
     ]
    }
   ],
   "source": [
    "%%bash\n",
    "source \"./functions.sh\"\n",
    "execute_notebook \"../Taller_BBDD/mongodb/CRUD_MongoDB.ipynb\""
   ]
  },
  {
   "cell_type": "markdown",
   "metadata": {},
   "source": [
    "# Pŕactica"
   ]
  },
  {
   "cell_type": "code",
   "execution_count": null,
   "metadata": {},
   "outputs": [],
   "source": [
    "%%bash\n",
    "\n",
    "HOME_DIRECTORY=../Taller_BBDD/postgresql/practica\n",
    "\n",
    "rm -rf $HOME_DIRECTORY\n",
    "mkdir -p $HOME_DIRECTORY\n",
    "\n",
    "pushd . > /tmp/null\n",
    "cd ../Taller_BBDD_Practica\n",
    "cp \"Caso de Uso.ipynb\" \"Postgres.ipynb\" $HOME_DIRECTORY\n",
    "cp -r data  $HOME_DIRECTORY\n",
    "\n",
    "popd > /tmp/null\n",
    "echo \"Ok ;-)\""
   ]
  },
  {
   "cell_type": "markdown",
   "metadata": {},
   "source": [
    "# Stop Service"
   ]
  },
  {
   "cell_type": "code",
   "execution_count": 15,
   "metadata": {},
   "outputs": [
    {
     "name": "stdout",
     "output_type": "stream",
     "text": [
      "Stopping monuku_container ... \n",
      "Stopping mongo_container  ... \n",
      "\u001b[1Bping mongo_container  ... \u001b[32mdone\u001b[0m\u001b[1A\u001b[2KRemoving monuku_container ... \n",
      "Removing mongo_container  ... \n",
      "\u001b[1BRemoving network compose-mongodb_mongodb\n"
     ]
    }
   ],
   "source": [
    "neo4j down"
   ]
  },
  {
   "cell_type": "code",
   "execution_count": null,
   "metadata": {},
   "outputs": [],
   "source": []
  }
 ],
 "metadata": {
  "kernelspec": {
   "display_name": "Python 3",
   "language": "python",
   "name": "python3"
  },
  "language_info": {
   "codemirror_mode": {
    "name": "ipython",
    "version": 3
   },
   "file_extension": ".py",
   "mimetype": "text/x-python",
   "name": "python",
   "nbconvert_exporter": "python",
   "pygments_lexer": "ipython3",
   "version": "3.6.12"
  }
 },
 "nbformat": 4,
 "nbformat_minor": 4
}
