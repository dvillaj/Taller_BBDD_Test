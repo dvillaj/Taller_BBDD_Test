{
 "cells": [
  {
   "cell_type": "markdown",
   "metadata": {},
   "source": [
    "# Setup"
   ]
  },
  {
   "cell_type": "code",
   "execution_count": 1,
   "metadata": {},
   "outputs": [],
   "source": [
    "%alias cassandra docker-compose -f /opt/compose/compose-cassandra/docker-compose.yml"
   ]
  },
  {
   "cell_type": "code",
   "execution_count": 3,
   "metadata": {},
   "outputs": [
    {
     "name": "stdout",
     "output_type": "stream",
     "text": [
      "CONTAINER ID   IMAGE     COMMAND   CREATED   STATUS    PORTS     NAMES\n"
     ]
    }
   ],
   "source": [
    "!docker ps"
   ]
  },
  {
   "cell_type": "code",
   "execution_count": 4,
   "metadata": {},
   "outputs": [
    {
     "name": "stdout",
     "output_type": "stream",
     "text": [
      "Creating network \"compose-cassandra_default\" with the default driver\n",
      "Creating volume \"compose-cassandra_data_volume\" with default driver\n",
      "Creating compose-cassandra_cassandra_1 ... \n",
      "\u001b[1Bting compose-cassandra_cassandra_1 ... \u001b[32mdone\u001b[0m"
     ]
    }
   ],
   "source": [
    "cassandra up -d"
   ]
  },
  {
   "cell_type": "code",
   "execution_count": 5,
   "metadata": {},
   "outputs": [
    {
     "name": "stdout",
     "output_type": "stream",
     "text": [
      "         Name                   Command           State           Ports         \n",
      "--------------------------------------------------------------------------------\n",
      "compose-                 docker-entrypoint.sh     Up      7000/tcp, 7001/tcp,   \n",
      "cassandra_cassandra_1    cassa ...                        7199/tcp, 0.0.0.0:9042\n",
      "                                                          ->9042/tcp,:::9042->90\n",
      "                                                          42/tcp, 9160/tcp      \n"
     ]
    }
   ],
   "source": [
    "cassandra ps"
   ]
  },
  {
   "cell_type": "code",
   "execution_count": 6,
   "metadata": {},
   "outputs": [],
   "source": [
    "!sleep 20"
   ]
  },
  {
   "cell_type": "code",
   "execution_count": 7,
   "metadata": {},
   "outputs": [
    {
     "name": "stdout",
     "output_type": "stream",
     "text": [
      "\u001b[36mcassandra_1  |\u001b[0m INFO  [Thread-2] 2022-12-23 06:34:31,073 ThriftServer.java:133 - Listening for thrift clients...\n"
     ]
    }
   ],
   "source": [
    "cassandra logs | grep \"Listening for thrift clients\""
   ]
  },
  {
   "cell_type": "code",
   "execution_count": 8,
   "metadata": {},
   "outputs": [
    {
     "name": "stdout",
     "output_type": "stream",
     "text": [
      "/home/learner/notebooks/Taller_BBDD/6-cassandra/CRUD Cassandra.ipynb\n",
      "/home/learner/notebooks/Taller_BBDD/6-cassandra/Cassandra-Materialized Views.ipynb\n",
      "/home/learner/notebooks/Taller_BBDD/6-cassandra/extra/Cassandra KEY Types.ipynb\n"
     ]
    }
   ],
   "source": [
    "import glob\n",
    "\n",
    "for filename in glob.iglob('/home/learner/notebooks/Taller_BBDD/6-cassandra/**/*.ipynb', recursive=True):\n",
    "    print(filename)"
   ]
  },
  {
   "cell_type": "markdown",
   "metadata": {},
   "source": [
    "# Tests Cassandra"
   ]
  },
  {
   "cell_type": "code",
   "execution_count": 9,
   "metadata": {},
   "outputs": [
    {
     "name": "stderr",
     "output_type": "stream",
     "text": [
      "[NbConvertApp] Converting notebook ../Taller_BBDD/6-cassandra/CRUD Cassandra.ipynb to html_embed\n",
      "[NbConvertApp] Writing 596422 bytes to html/Taller_BBDD/6-cassandra/CRUD Cassandra.html\n",
      "[NbConvertApp] Converting notebook ../Taller_BBDD/6-cassandra/CRUD Cassandra.ipynb to notebook\n",
      "[NbConvertApp] Writing 5061 bytes to ../Taller_BBDD/6-cassandra/CRUD Cassandra.ipynb\n"
     ]
    }
   ],
   "source": [
    "%%bash\n",
    "source \"./functions.sh\"\n",
    "execute_notebook \"../Taller_BBDD/6-cassandra/CRUD Cassandra.ipynb\""
   ]
  },
  {
   "cell_type": "code",
   "execution_count": 10,
   "metadata": {},
   "outputs": [
    {
     "name": "stderr",
     "output_type": "stream",
     "text": [
      "[NbConvertApp] Converting notebook ../Taller_BBDD/6-cassandra/extra/Cassandra KEY Types.ipynb to html_embed\n",
      "[NbConvertApp] Writing 595814 bytes to html/Taller_BBDD/6-cassandra/extra/Cassandra KEY Types.html\n",
      "[NbConvertApp] Converting notebook ../Taller_BBDD/6-cassandra/extra/Cassandra KEY Types.ipynb to notebook\n",
      "[NbConvertApp] Writing 7643 bytes to ../Taller_BBDD/6-cassandra/extra/Cassandra KEY Types.ipynb\n"
     ]
    }
   ],
   "source": [
    "%%bash\n",
    "source \"./functions.sh\"\n",
    "execute_notebook \"../Taller_BBDD/6-cassandra/extra/Cassandra KEY Types.ipynb\""
   ]
  },
  {
   "cell_type": "code",
   "execution_count": 11,
   "metadata": {},
   "outputs": [
    {
     "name": "stderr",
     "output_type": "stream",
     "text": [
      "[NbConvertApp] Converting notebook ../Taller_BBDD/6-cassandra/Cassandra-Materialized Views.ipynb to html_embed\n",
      "[NbConvertApp] Writing 600771 bytes to html/Taller_BBDD/6-cassandra/Cassandra-Materialized Views.html\n",
      "[NbConvertApp] Converting notebook ../Taller_BBDD/6-cassandra/Cassandra-Materialized Views.ipynb to notebook\n",
      "[NbConvertApp] Writing 9844 bytes to ../Taller_BBDD/6-cassandra/Cassandra-Materialized Views.ipynb\n"
     ]
    }
   ],
   "source": [
    "%%bash\n",
    "source \"./functions.sh\"\n",
    "execute_notebook \"../Taller_BBDD/6-cassandra/Cassandra-Materialized Views.ipynb\""
   ]
  },
  {
   "cell_type": "markdown",
   "metadata": {
    "tags": []
   },
   "source": [
    "# Caso de Uso"
   ]
  },
  {
   "cell_type": "code",
   "execution_count": 12,
   "metadata": {},
   "outputs": [
    {
     "name": "stdout",
     "output_type": "stream",
     "text": [
      "/home/learner/notebooks/Taller_BBDD/2-caso_de_uso/1-Caso de Uso.ipynb\n",
      "/home/learner/notebooks/Taller_BBDD/2-caso_de_uso/6-Neo4j.ipynb\n",
      "/home/learner/notebooks/Taller_BBDD/2-caso_de_uso/2-PostgresSQL.ipynb\n",
      "/home/learner/notebooks/Taller_BBDD/2-caso_de_uso/4-Cassandra.ipynb\n",
      "/home/learner/notebooks/Taller_BBDD/2-caso_de_uso/3-Riak.ipynb\n",
      "/home/learner/notebooks/Taller_BBDD/2-caso_de_uso/5-MongoDB.ipynb\n"
     ]
    }
   ],
   "source": [
    "import glob\n",
    "\n",
    "for filename in glob.iglob('/home/learner/notebooks/Taller_BBDD/2-caso_de_uso/**/*.ipynb', recursive=True):\n",
    "    print(filename)"
   ]
  },
  {
   "cell_type": "code",
   "execution_count": 13,
   "metadata": {},
   "outputs": [
    {
     "name": "stderr",
     "output_type": "stream",
     "text": [
      "[NbConvertApp] Converting notebook ../Taller_BBDD/2-caso_de_uso/4-Cassandra.ipynb to html_embed\n",
      "[NbConvertApp] Writing 761337 bytes to html/Taller_BBDD/2-caso_de_uso/4-Cassandra.html\n",
      "[NbConvertApp] Converting notebook ../Taller_BBDD/2-caso_de_uso/4-Cassandra.ipynb to notebook\n",
      "[NbConvertApp] Writing 12599 bytes to ../Taller_BBDD/2-caso_de_uso/4-Cassandra.ipynb\n"
     ]
    }
   ],
   "source": [
    "%%bash\n",
    "source \"./functions.sh\"\n",
    "execute_notebook \"../Taller_BBDD/2-caso_de_uso/4-Cassandra.ipynb\""
   ]
  },
  {
   "cell_type": "markdown",
   "metadata": {},
   "source": [
    "# Twitter"
   ]
  },
  {
   "cell_type": "code",
   "execution_count": 14,
   "metadata": {},
   "outputs": [
    {
     "name": "stdout",
     "output_type": "stream",
     "text": [
      "/home/learner/notebooks/Taller_BBDD/twitter/1-PostgreSQL Twitter.ipynb\n",
      "/home/learner/notebooks/Taller_BBDD/twitter/3-Apache Cassandra Twitter.ipynb\n",
      "/home/learner/notebooks/Taller_BBDD/twitter/4-MongoDB Twitter.ipynb\n",
      "/home/learner/notebooks/Taller_BBDD/twitter/5-Neo4j Twitter.ipynb\n",
      "/home/learner/notebooks/Taller_BBDD/twitter/2-Riak Twitter.ipynb\n"
     ]
    }
   ],
   "source": [
    "import glob\n",
    "\n",
    "for filename in glob.iglob('/home/learner/notebooks/Taller_BBDD/twitter/**/*.ipynb', recursive=True):\n",
    "    print(filename)"
   ]
  },
  {
   "cell_type": "code",
   "execution_count": 15,
   "metadata": {},
   "outputs": [
    {
     "name": "stderr",
     "output_type": "stream",
     "text": [
      "[NbConvertApp] Converting notebook ../Taller_BBDD/twitter/3-Apache Cassandra Twitter.ipynb to html_embed\n",
      "[NbConvertApp] Writing 830459 bytes to html/Taller_BBDD/twitter/3-Apache Cassandra Twitter.html\n",
      "[NbConvertApp] Converting notebook ../Taller_BBDD/twitter/3-Apache Cassandra Twitter.ipynb to notebook\n",
      "[NbConvertApp] Writing 17355 bytes to ../Taller_BBDD/twitter/3-Apache Cassandra Twitter.ipynb\n"
     ]
    }
   ],
   "source": [
    "%%bash\n",
    "source \"./functions.sh\"\n",
    "execute_notebook \"../Taller_BBDD/twitter/3-Apache Cassandra Twitter.ipynb\""
   ]
  },
  {
   "cell_type": "markdown",
   "metadata": {},
   "source": [
    "# Practica"
   ]
  },
  {
   "cell_type": "code",
   "execution_count": 16,
   "metadata": {},
   "outputs": [
    {
     "name": "stdout",
     "output_type": "stream",
     "text": [
      "/home/learner/notebooks/Taller_BBDD_Practica/Caso de Uso.ipynb\n",
      "/home/learner/notebooks/Taller_BBDD_Practica/Neo4j.ipynb\n",
      "/home/learner/notebooks/Taller_BBDD_Practica/MongoDB.ipynb\n",
      "/home/learner/notebooks/Taller_BBDD_Practica/Cassandra.ipynb\n",
      "/home/learner/notebooks/Taller_BBDD_Practica/Postgres.ipynb\n",
      "/home/learner/notebooks/Taller_BBDD_Practica/Riak.ipynb\n"
     ]
    }
   ],
   "source": [
    "import glob\n",
    "\n",
    "for filename in glob.iglob('/home/learner/notebooks/Taller_BBDD_Practica/**/*.ipynb', recursive=True):\n",
    "    print(filename)"
   ]
  },
  {
   "cell_type": "code",
   "execution_count": 17,
   "metadata": {},
   "outputs": [
    {
     "name": "stderr",
     "output_type": "stream",
     "text": [
      "[NbConvertApp] Converting notebook ../Taller_BBDD_Practica/Cassandra.ipynb to html_embed\n",
      "[NbConvertApp] Writing 704653 bytes to html/Taller_BBDD_Practica/Cassandra.html\n",
      "[NbConvertApp] Converting notebook ../Taller_BBDD_Practica/Cassandra.ipynb to notebook\n",
      "[NbConvertApp] Writing 9527 bytes to ../Taller_BBDD_Practica/Cassandra.ipynb\n"
     ]
    }
   ],
   "source": [
    "%%bash\n",
    "source \"./functions.sh\"\n",
    "execute_notebook \"../Taller_BBDD_Practica/Cassandra.ipynb\""
   ]
  },
  {
   "cell_type": "markdown",
   "metadata": {},
   "source": [
    "# Stop Service"
   ]
  },
  {
   "cell_type": "code",
   "execution_count": 19,
   "metadata": {},
   "outputs": [
    {
     "name": "stdout",
     "output_type": "stream",
     "text": [
      "Removing compose-cassandra_cassandra_1 ... \n",
      "\u001b[1BRemoving network compose-cassandra_default2mdone\u001b[0m\n"
     ]
    }
   ],
   "source": [
    "cassandra down"
   ]
  },
  {
   "cell_type": "code",
   "execution_count": null,
   "metadata": {},
   "outputs": [],
   "source": []
  }
 ],
 "metadata": {
  "kernelspec": {
   "display_name": "Python 3 (ipykernel)",
   "language": "python",
   "name": "python3"
  },
  "language_info": {
   "codemirror_mode": {
    "name": "ipython",
    "version": 3
   },
   "file_extension": ".py",
   "mimetype": "text/x-python",
   "name": "python",
   "nbconvert_exporter": "python",
   "pygments_lexer": "ipython3",
   "version": "3.8.10"
  }
 },
 "nbformat": 4,
 "nbformat_minor": 4
}
