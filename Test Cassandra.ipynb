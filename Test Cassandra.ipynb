{
 "cells": [
  {
   "cell_type": "markdown",
   "metadata": {},
   "source": [
    "# Setup"
   ]
  },
  {
   "cell_type": "code",
   "execution_count": 1,
   "metadata": {},
   "outputs": [],
   "source": [
    "%alias cassandra docker-compose -f /opt/compose/compose-cassandra/docker-compose.yml"
   ]
  },
  {
   "cell_type": "code",
   "execution_count": 2,
   "metadata": {},
   "outputs": [
    {
     "name": "stdout",
     "output_type": "stream",
     "text": [
      "CONTAINER ID   IMAGE     COMMAND   CREATED   STATUS    PORTS     NAMES\n"
     ]
    }
   ],
   "source": [
    "!docker ps"
   ]
  },
  {
   "cell_type": "code",
   "execution_count": 3,
   "metadata": {},
   "outputs": [
    {
     "name": "stdout",
     "output_type": "stream",
     "text": [
      "Creating network \"compose-cassandra_default\" with the default driver\n",
      "Creating volume \"compose-cassandra_data_volume\" with default driver\n",
      "Creating compose-cassandra_cassandra_1 ... \n",
      "\u001b[1Bting compose-cassandra_cassandra_1 ... \u001b[32mdone\u001b[0m"
     ]
    }
   ],
   "source": [
    "cassandra up -d"
   ]
  },
  {
   "cell_type": "code",
   "execution_count": 4,
   "metadata": {},
   "outputs": [
    {
     "name": "stdout",
     "output_type": "stream",
     "text": [
      "         Name                   Command           State           Ports         \n",
      "--------------------------------------------------------------------------------\n",
      "compose-                 docker-entrypoint.sh     Up      7000/tcp, 7001/tcp,   \n",
      "cassandra_cassandra_1    cassa ...                        7199/tcp, 0.0.0.0:9042\n",
      "                                                          ->9042/tcp,:::9042->90\n",
      "                                                          42/tcp, 9160/tcp      \n"
     ]
    }
   ],
   "source": [
    "cassandra ps"
   ]
  },
  {
   "cell_type": "code",
   "execution_count": 5,
   "metadata": {},
   "outputs": [],
   "source": [
    "!sleep 10"
   ]
  },
  {
   "cell_type": "code",
   "execution_count": 6,
   "metadata": {},
   "outputs": [
    {
     "name": "stdout",
     "output_type": "stream",
     "text": [
      "\u001b[36mcassandra_1  |\u001b[0m INFO  [MigrationStage:1] 2021-09-18 11:33:45,095 ColumnFamilyStore.java:432 - Initializing system_auth.roles\n",
      "\u001b[36mcassandra_1  |\u001b[0m INFO  [main] 2021-09-18 11:33:45,113 StorageService.java:1564 - JOINING: Finish joining ring\n",
      "\u001b[36mcassandra_1  |\u001b[0m INFO  [main] 2021-09-18 11:33:45,196 Gossiper.java:1832 - Waiting for gossip to settle...\n",
      "\u001b[36mcassandra_1  |\u001b[0m INFO  [main] 2021-09-18 11:33:53,200 Gossiper.java:1863 - No gossip backlog; proceeding\n",
      "\u001b[36mcassandra_1  |\u001b[0m INFO  [main] 2021-09-18 11:33:53,429 NativeTransportService.java:68 - Netty using native Epoll event loop\n",
      "\u001b[36mcassandra_1  |\u001b[0m INFO  [main] 2021-09-18 11:33:53,480 Server.java:158 - Using Netty Version: [netty-buffer=netty-buffer-4.0.44.Final.452812a, netty-codec=netty-codec-4.0.44.Final.452812a, netty-codec-haproxy=netty-codec-haproxy-4.0.44.Final.452812a, netty-codec-http=netty-codec-http-4.0.44.Final.452812a, netty-codec-socks=netty-codec-socks-4.0.44.Final.452812a, netty-common=netty-common-4.0.44.Final.452812a, netty-handler=netty-handler-4.0.44.Final.452812a, netty-tcnative=netty-tcnative-1.1.33.Fork26.142ecbb, netty-transport=netty-transport-4.0.44.Final.452812a, netty-transport-native-epoll=netty-transport-native-epoll-4.0.44.Final.452812a, netty-transport-rxtx=netty-transport-rxtx-4.0.44.Final.452812a, netty-transport-sctp=netty-transport-sctp-4.0.44.Final.452812a, netty-transport-udt=netty-transport-udt-4.0.44.Final.452812a]\n",
      "\u001b[36mcassandra_1  |\u001b[0m INFO  [main] 2021-09-18 11:33:53,480 Server.java:159 - Starting listening for CQL clients on /0.0.0.0:9042 (unencrypted)...\n",
      "\u001b[36mcassandra_1  |\u001b[0m INFO  [main] 2021-09-18 11:33:53,548 ThriftServer.java:116 - Binding thrift service to /0.0.0.0:9160\n",
      "\u001b[36mcassandra_1  |\u001b[0m INFO  [main] 2021-09-18 11:33:53,585 CassandraDaemon.java:650 - Startup complete\n",
      "\u001b[36mcassandra_1  |\u001b[0m INFO  [Thread-2] 2021-09-18 11:33:53,585 ThriftServer.java:133 - Listening for thrift clients...\n"
     ]
    }
   ],
   "source": [
    "cassandra logs | tail"
   ]
  },
  {
   "cell_type": "code",
   "execution_count": 7,
   "metadata": {},
   "outputs": [
    {
     "name": "stdout",
     "output_type": "stream",
     "text": [
      "\u001b[36mcassandra_1  |\u001b[0m INFO  [Thread-2] 2021-09-18 11:33:53,585 ThriftServer.java:133 - Listening for thrift clients...\n"
     ]
    }
   ],
   "source": [
    "cassandra logs | grep \"Listening for thrift clients\""
   ]
  },
  {
   "cell_type": "code",
   "execution_count": 8,
   "metadata": {},
   "outputs": [
    {
     "name": "stdout",
     "output_type": "stream",
     "text": [
      "/home/learner/notebooks/Taller_BBDD/cassandra/Cassandra KEY Types.ipynb\n",
      "/home/learner/notebooks/Taller_BBDD/cassandra/Cassandra-Materialized Views.ipynb\n",
      "/home/learner/notebooks/Taller_BBDD/cassandra/CRUD Cassandra.ipynb\n",
      "/home/learner/notebooks/Taller_BBDD/cassandra/twitter/Apache Cassandra - Twitter.ipynb\n",
      "/home/learner/notebooks/Taller_BBDD/cassandra/service/Cassandra Service.ipynb\n",
      "/home/learner/notebooks/Taller_BBDD/cassandra/black/Tarjetas_Black.ipynb\n"
     ]
    }
   ],
   "source": [
    "import glob\n",
    "\n",
    "for filename in glob.iglob('/home/learner/notebooks/Taller_BBDD/cassandra/**/*.ipynb', recursive=True):\n",
    "    print(filename)"
   ]
  },
  {
   "cell_type": "markdown",
   "metadata": {},
   "source": [
    "# Tests Cassandra"
   ]
  },
  {
   "cell_type": "code",
   "execution_count": 9,
   "metadata": {},
   "outputs": [
    {
     "name": "stderr",
     "output_type": "stream",
     "text": [
      "[NbConvertApp] Converting notebook ../Taller_BBDD/cassandra/CRUD Cassandra.ipynb to html_embed\n",
      "[NbConvertApp] Converting notebook ../Taller_BBDD/cassandra/CRUD Cassandra.ipynb to notebook\n"
     ]
    }
   ],
   "source": [
    "%%bash\n",
    "source \"./functions.sh\"\n",
    "execute_notebook \"../Taller_BBDD/cassandra/CRUD Cassandra.ipynb\""
   ]
  },
  {
   "cell_type": "code",
   "execution_count": 10,
   "metadata": {},
   "outputs": [
    {
     "name": "stderr",
     "output_type": "stream",
     "text": [
      "[NbConvertApp] Converting notebook ../Taller_BBDD/cassandra/Cassandra KEY Types.ipynb to html_embed\n",
      "[NbConvertApp] Converting notebook ../Taller_BBDD/cassandra/Cassandra KEY Types.ipynb to notebook\n"
     ]
    }
   ],
   "source": [
    "%%bash\n",
    "source \"./functions.sh\"\n",
    "execute_notebook \"../Taller_BBDD/cassandra/Cassandra KEY Types.ipynb\""
   ]
  },
  {
   "cell_type": "code",
   "execution_count": 11,
   "metadata": {},
   "outputs": [
    {
     "name": "stderr",
     "output_type": "stream",
     "text": [
      "[NbConvertApp] Converting notebook ../Taller_BBDD/cassandra/Cassandra-Materialized Views.ipynb to html_embed\n",
      "[NbConvertApp] Converting notebook ../Taller_BBDD/cassandra/Cassandra-Materialized Views.ipynb to notebook\n"
     ]
    }
   ],
   "source": [
    "%%bash\n",
    "source \"./functions.sh\"\n",
    "execute_notebook \"../Taller_BBDD/cassandra/Cassandra-Materialized Views.ipynb\""
   ]
  },
  {
   "cell_type": "code",
   "execution_count": 12,
   "metadata": {},
   "outputs": [
    {
     "name": "stderr",
     "output_type": "stream",
     "text": [
      "[NbConvertApp] Converting notebook ../Taller_BBDD/cassandra/twitter/Apache Cassandra - Twitter.ipynb to html_embed\n",
      "[NbConvertApp] Converting notebook ../Taller_BBDD/cassandra/twitter/Apache Cassandra - Twitter.ipynb to notebook\n"
     ]
    }
   ],
   "source": [
    "%%bash\n",
    "source \"./functions.sh\"\n",
    "execute_notebook \"../Taller_BBDD/cassandra/twitter/Apache Cassandra - Twitter.ipynb\""
   ]
  },
  {
   "cell_type": "code",
   "execution_count": 13,
   "metadata": {},
   "outputs": [
    {
     "name": "stderr",
     "output_type": "stream",
     "text": [
      "[NbConvertApp] Converting notebook ../Taller_BBDD/cassandra/black/Tarjetas_Black.ipynb to html_embed\n",
      "[NbConvertApp] Converting notebook ../Taller_BBDD/cassandra/black/Tarjetas_Black.ipynb to notebook\n"
     ]
    }
   ],
   "source": [
    "%%bash\n",
    "source \"./functions.sh\"\n",
    "execute_notebook \"../Taller_BBDD/cassandra/black/Tarjetas_Black.ipynb\""
   ]
  },
  {
   "cell_type": "markdown",
   "metadata": {},
   "source": [
    "# Practica"
   ]
  },
  {
   "cell_type": "code",
   "execution_count": 14,
   "metadata": {},
   "outputs": [
    {
     "name": "stdout",
     "output_type": "stream",
     "text": [
      "/home/learner/notebooks/Taller_BBDD_Practica/Neo4j.ipynb\n",
      "/home/learner/notebooks/Taller_BBDD_Practica/Cassandra.ipynb\n",
      "/home/learner/notebooks/Taller_BBDD_Practica/Postgres.ipynb\n",
      "/home/learner/notebooks/Taller_BBDD_Practica/Caso de Uso.ipynb\n",
      "/home/learner/notebooks/Taller_BBDD_Practica/Riak.ipynb\n",
      "/home/learner/notebooks/Taller_BBDD_Practica/MongoDB.ipynb\n"
     ]
    }
   ],
   "source": [
    "import glob\n",
    "\n",
    "for filename in glob.iglob('/home/learner/notebooks/Taller_BBDD_Practica/**/*.ipynb', recursive=True):\n",
    "    print(filename)"
   ]
  },
  {
   "cell_type": "code",
   "execution_count": 15,
   "metadata": {},
   "outputs": [
    {
     "name": "stderr",
     "output_type": "stream",
     "text": [
      "[NbConvertApp] Converting notebook ../Taller_BBDD_Practica/Cassandra.ipynb to html_embed\n",
      "[NbConvertApp] Converting notebook ../Taller_BBDD_Practica/Cassandra.ipynb to notebook\n"
     ]
    }
   ],
   "source": [
    "%%bash\n",
    "source \"./functions.sh\"\n",
    "execute_notebook \"../Taller_BBDD_Practica/Cassandra.ipynb\""
   ]
  },
  {
   "cell_type": "markdown",
   "metadata": {},
   "source": [
    "# Stop Service"
   ]
  },
  {
   "cell_type": "code",
   "execution_count": 16,
   "metadata": {},
   "outputs": [
    {
     "name": "stdout",
     "output_type": "stream",
     "text": [
      "Stopping compose-cassandra_cassandra_1 ... \n",
      "\u001b[1BRemoving compose-cassandra_cassandra_1 ... mdone\u001b[0m\n",
      "\u001b[1BRemoving network compose-cassandra_default2mdone\u001b[0m\n"
     ]
    }
   ],
   "source": [
    "cassandra down"
   ]
  },
  {
   "cell_type": "code",
   "execution_count": null,
   "metadata": {},
   "outputs": [],
   "source": []
  }
 ],
 "metadata": {
  "kernelspec": {
   "display_name": "Python 3",
   "language": "python",
   "name": "python3"
  },
  "language_info": {
   "codemirror_mode": {
    "name": "ipython",
    "version": 3
   },
   "file_extension": ".py",
   "mimetype": "text/x-python",
   "name": "python",
   "nbconvert_exporter": "python",
   "pygments_lexer": "ipython3",
   "version": "3.6.15"
  }
 },
 "nbformat": 4,
 "nbformat_minor": 4
}
