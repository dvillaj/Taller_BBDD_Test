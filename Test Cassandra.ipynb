{
 "cells": [
  {
   "cell_type": "markdown",
   "metadata": {},
   "source": [
    "# Setup"
   ]
  },
  {
   "cell_type": "code",
   "execution_count": 26,
   "metadata": {},
   "outputs": [],
   "source": [
    "%alias cassandra /usr/local/bin/docker-compose -f /opt/compose/compose-cassandra/docker-compose.yml"
   ]
  },
  {
   "cell_type": "code",
   "execution_count": 27,
   "metadata": {},
   "outputs": [
    {
     "name": "stdout",
     "output_type": "stream",
     "text": [
      "CONTAINER ID   IMAGE     COMMAND   CREATED   STATUS    PORTS     NAMES\n"
     ]
    }
   ],
   "source": [
    "!docker ps"
   ]
  },
  {
   "cell_type": "code",
   "execution_count": 28,
   "metadata": {},
   "outputs": [
    {
     "name": "stdout",
     "output_type": "stream",
     "text": [
      "Creating network \"compose-cassandra_default\" with the default driver\n",
      "Creating compose-cassandra_cassandra_1 ... \n",
      "\u001b[1Bting compose-cassandra_cassandra_1 ... \u001b[32mdone\u001b[0m"
     ]
    }
   ],
   "source": [
    "cassandra up -d"
   ]
  },
  {
   "cell_type": "code",
   "execution_count": 29,
   "metadata": {},
   "outputs": [
    {
     "name": "stdout",
     "output_type": "stream",
     "text": [
      "         Name                   Command           State           Ports         \n",
      "--------------------------------------------------------------------------------\n",
      "compose-                 docker-entrypoint.sh     Up      7000/tcp, 7001/tcp,   \n",
      "cassandra_cassandra_1    cassa ...                        7199/tcp, 0.0.0.0:9042\n",
      "                                                          ->9042/tcp, 9160/tcp  \n"
     ]
    }
   ],
   "source": [
    "cassandra ps"
   ]
  },
  {
   "cell_type": "code",
   "execution_count": 30,
   "metadata": {},
   "outputs": [],
   "source": [
    "!sleep 10"
   ]
  },
  {
   "cell_type": "code",
   "execution_count": 31,
   "metadata": {},
   "outputs": [
    {
     "name": "stdout",
     "output_type": "stream",
     "text": [
      "\u001b[36mcassandra_1  |\u001b[0m INFO  [main] 2020-12-25 07:35:35,954 SecondaryIndexManager.java:512 - Executing pre-join tasks for: CFS(Keyspace='black', ColumnFamily='acum_movimientos_nombre')\n",
      "\u001b[36mcassandra_1  |\u001b[0m INFO  [main] 2020-12-25 07:35:35,955 SecondaryIndexManager.java:512 - Executing pre-join tasks for: CFS(Keyspace='black', ColumnFamily='movimientos')\n",
      "\u001b[36mcassandra_1  |\u001b[0m INFO  [main] 2020-12-25 07:35:35,956 SecondaryIndexManager.java:512 - Executing pre-join tasks for: CFS(Keyspace='accidentes', ColumnFamily='accidentes')\n",
      "\u001b[36mcassandra_1  |\u001b[0m INFO  [main] 2020-12-25 07:35:35,956 SecondaryIndexManager.java:512 - Executing pre-join tasks for: CFS(Keyspace='accidentes', ColumnFamily='acum_tipo_accidente')\n",
      "\u001b[36mcassandra_1  |\u001b[0m INFO  [main] 2020-12-25 07:35:35,956 SecondaryIndexManager.java:512 - Executing pre-join tasks for: CFS(Keyspace='demo', ColumnFamily='scores')\n",
      "\u001b[36mcassandra_1  |\u001b[0m INFO  [main] 2020-12-25 07:35:35,956 SecondaryIndexManager.java:512 - Executing pre-join tasks for: CFS(Keyspace='demo', ColumnFamily='dailyhigh')\n",
      "\u001b[36mcassandra_1  |\u001b[0m INFO  [main] 2020-12-25 07:35:35,957 SecondaryIndexManager.java:512 - Executing pre-join tasks for: CFS(Keyspace='demo', ColumnFamily='monthlyhigh')\n",
      "\u001b[36mcassandra_1  |\u001b[0m INFO  [main] 2020-12-25 07:35:35,957 SecondaryIndexManager.java:512 - Executing pre-join tasks for: CFS(Keyspace='demo', ColumnFamily='alltimehigh')\n",
      "\u001b[36mcassandra_1  |\u001b[0m INFO  [main] 2020-12-25 07:35:35,978 StorageService.java:2408 - Node /172.25.0.2 state jump to NORMAL\n",
      "\u001b[36mcassandra_1  |\u001b[0m INFO  [main] 2020-12-25 07:35:35,982 Gossiper.java:1796 - Waiting for gossip to settle...\n"
     ]
    }
   ],
   "source": [
    "cassandra logs | tail"
   ]
  },
  {
   "cell_type": "code",
   "execution_count": 34,
   "metadata": {},
   "outputs": [
    {
     "name": "stdout",
     "output_type": "stream",
     "text": [
      "\u001b[36mcassandra_1  |\u001b[0m INFO  [Thread-2] 2020-12-25 07:37:22,512 ThriftServer.java:133 - Listening for thrift clients...\n"
     ]
    }
   ],
   "source": [
    "cassandra logs | grep \"Listening for thrift clients\""
   ]
  },
  {
   "cell_type": "code",
   "execution_count": 35,
   "metadata": {},
   "outputs": [
    {
     "name": "stdout",
     "output_type": "stream",
     "text": [
      "/home/learner/notebooks/Taller_BBDD/cassandra/Cassandra KEY Types.ipynb\n",
      "/home/learner/notebooks/Taller_BBDD/cassandra/CRUD Cassandra.ipynb\n",
      "/home/learner/notebooks/Taller_BBDD/cassandra/Cassandra-Materialized Views.ipynb\n",
      "/home/learner/notebooks/Taller_BBDD/cassandra/service/Cassandra Service.ipynb\n",
      "/home/learner/notebooks/Taller_BBDD/cassandra/twitter/Apache Cassandra - Twitter.ipynb\n",
      "/home/learner/notebooks/Taller_BBDD/cassandra/black/Tarjetas_Black.ipynb\n"
     ]
    }
   ],
   "source": [
    "import glob\n",
    "\n",
    "for filename in glob.iglob('/home/learner/notebooks/Taller_BBDD/cassandra/**/*.ipynb', recursive=True):\n",
    "    print(filename)"
   ]
  },
  {
   "cell_type": "markdown",
   "metadata": {},
   "source": [
    "# Tests Cassandra"
   ]
  },
  {
   "cell_type": "code",
   "execution_count": 38,
   "metadata": {},
   "outputs": [
    {
     "name": "stderr",
     "output_type": "stream",
     "text": [
      "[NbConvertApp] Converting notebook ../Taller_BBDD/cassandra/CRUD Cassandra.ipynb to html_embed\n",
      "[NbConvertApp] Converting notebook ../Taller_BBDD/cassandra/CRUD Cassandra.ipynb to notebook\n"
     ]
    }
   ],
   "source": [
    "%%bash\n",
    "source \"./functions.sh\"\n",
    "execute_notebook \"../Taller_BBDD/cassandra/CRUD Cassandra.ipynb\""
   ]
  },
  {
   "cell_type": "code",
   "execution_count": 39,
   "metadata": {},
   "outputs": [
    {
     "name": "stderr",
     "output_type": "stream",
     "text": [
      "[NbConvertApp] Converting notebook ../Taller_BBDD/cassandra/Cassandra KEY Types.ipynb to html_embed\n",
      "[NbConvertApp] Converting notebook ../Taller_BBDD/cassandra/Cassandra KEY Types.ipynb to notebook\n"
     ]
    }
   ],
   "source": [
    "%%bash\n",
    "source \"./functions.sh\"\n",
    "execute_notebook \"../Taller_BBDD/cassandra/Cassandra KEY Types.ipynb\""
   ]
  },
  {
   "cell_type": "code",
   "execution_count": 40,
   "metadata": {},
   "outputs": [
    {
     "name": "stderr",
     "output_type": "stream",
     "text": [
      "[NbConvertApp] Converting notebook ../Taller_BBDD/cassandra/Cassandra-Materialized Views.ipynb to html_embed\n",
      "[NbConvertApp] Converting notebook ../Taller_BBDD/cassandra/Cassandra-Materialized Views.ipynb to notebook\n"
     ]
    }
   ],
   "source": [
    "%%bash\n",
    "source \"./functions.sh\"\n",
    "execute_notebook \"../Taller_BBDD/cassandra/Cassandra-Materialized Views.ipynb\""
   ]
  },
  {
   "cell_type": "code",
   "execution_count": 41,
   "metadata": {},
   "outputs": [
    {
     "name": "stderr",
     "output_type": "stream",
     "text": [
      "[NbConvertApp] Converting notebook ../Taller_BBDD/cassandra/twitter/Apache Cassandra - Twitter.ipynb to html_embed\n",
      "[NbConvertApp] Converting notebook ../Taller_BBDD/cassandra/twitter/Apache Cassandra - Twitter.ipynb to notebook\n"
     ]
    }
   ],
   "source": [
    "%%bash\n",
    "source \"./functions.sh\"\n",
    "execute_notebook \"../Taller_BBDD/cassandra/twitter/Apache Cassandra - Twitter.ipynb\""
   ]
  },
  {
   "cell_type": "code",
   "execution_count": 42,
   "metadata": {},
   "outputs": [
    {
     "name": "stderr",
     "output_type": "stream",
     "text": [
      "[NbConvertApp] Converting notebook ../Taller_BBDD/cassandra/black/Tarjetas_Black.ipynb to html_embed\n",
      "[NbConvertApp] Converting notebook ../Taller_BBDD/cassandra/black/Tarjetas_Black.ipynb to notebook\n"
     ]
    }
   ],
   "source": [
    "%%bash\n",
    "source \"./functions.sh\"\n",
    "execute_notebook \"../Taller_BBDD/cassandra/black/Tarjetas_Black.ipynb\""
   ]
  },
  {
   "cell_type": "markdown",
   "metadata": {},
   "source": [
    "# Practica"
   ]
  },
  {
   "cell_type": "code",
   "execution_count": 36,
   "metadata": {},
   "outputs": [
    {
     "name": "stdout",
     "output_type": "stream",
     "text": [
      "/home/learner/notebooks/Taller_BBDD_Practica/Caso de Uso.ipynb\n",
      "/home/learner/notebooks/Taller_BBDD_Practica/Postgres.ipynb\n",
      "/home/learner/notebooks/Taller_BBDD_Practica/Cassandra.ipynb\n",
      "/home/learner/notebooks/Taller_BBDD_Practica/Riak.ipynb\n",
      "/home/learner/notebooks/Taller_BBDD_Practica/MongoDB.ipynb\n",
      "/home/learner/notebooks/Taller_BBDD_Practica/Neo4j.ipynb\n"
     ]
    }
   ],
   "source": [
    "import glob\n",
    "\n",
    "for filename in glob.iglob('/home/learner/notebooks/Taller_BBDD_Practica/**/*.ipynb', recursive=True):\n",
    "    print(filename)"
   ]
  },
  {
   "cell_type": "code",
   "execution_count": 37,
   "metadata": {},
   "outputs": [
    {
     "name": "stderr",
     "output_type": "stream",
     "text": [
      "[NbConvertApp] Converting notebook ../Taller_BBDD_Practica/Cassandra.ipynb to html_embed\n",
      "[NbConvertApp] Converting notebook ../Taller_BBDD_Practica/Cassandra.ipynb to notebook\n"
     ]
    }
   ],
   "source": [
    "%%bash\n",
    "source \"./functions.sh\"\n",
    "execute_notebook \"../Taller_BBDD_Practica/Cassandra.ipynb\""
   ]
  },
  {
   "cell_type": "markdown",
   "metadata": {},
   "source": [
    "# Stop Service"
   ]
  },
  {
   "cell_type": "code",
   "execution_count": 25,
   "metadata": {},
   "outputs": [
    {
     "name": "stdout",
     "output_type": "stream",
     "text": [
      "Stopping compose-cassandra_cassandra_1 ... \n",
      "\u001b[1Bping compose-cassandra_cassandra_1 ... \u001b[32mdone\u001b[0mRemoving compose-cassandra_cassandra_1 ... \n",
      "\u001b[1BRemoving network compose-cassandra_default2mdone\u001b[0m\n"
     ]
    }
   ],
   "source": [
    "cassandra down"
   ]
  },
  {
   "cell_type": "code",
   "execution_count": null,
   "metadata": {},
   "outputs": [],
   "source": []
  }
 ],
 "metadata": {
  "kernelspec": {
   "display_name": "Python 3",
   "language": "python",
   "name": "python3"
  },
  "language_info": {
   "codemirror_mode": {
    "name": "ipython",
    "version": 3
   },
   "file_extension": ".py",
   "mimetype": "text/x-python",
   "name": "python",
   "nbconvert_exporter": "python",
   "pygments_lexer": "ipython3",
   "version": "3.6.12"
  }
 },
 "nbformat": 4,
 "nbformat_minor": 4
}
